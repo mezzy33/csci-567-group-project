{
  "cells": [
    {
      "cell_type": "markdown",
      "source": [
        "## Read me at the begining\n",
        "\n",
        "This the jupyter notebook for building the LSTM model to predict bitcoin.\n",
        "\n",
        "- Data preparetion\n",
        "  - read the clean data\n",
        "- Feature procese\n",
        "  -  remove rows\n",
        "- Modeling\n",
        "  - Building a basic LSTM model\n",
        "  - Experiments finding the best structure design of the LSTM(Automation programe to find best LSTM model for the target)\n",
        "- Result\n",
        "  - Calculate the RMSE and Plot the real vs predict graph"
      ],
      "metadata": {
        "id": "BTkN2GRFAT4C"
      }
    },
    {
      "cell_type": "markdown",
      "metadata": {
        "id": "39Ce08tkv0PL"
      },
      "source": [
        "# 1. Data preparetion"
      ]
    },
    {
      "cell_type": "code",
      "source": [
        "# neccessary library\n",
        "from sklearn.preprocessing import MinMaxScaler\n",
        "\n",
        "from keras.models import Sequential\n",
        "from keras.layers import Conv1D, MaxPooling1D, GlobalMaxPooling1D, LSTM, Dense, Reshape\n",
        "# Experiments using CNN + LSTM\n",
        "from keras.models import Sequential\n",
        "from keras.layers import Conv1D, MaxPooling1D, GlobalMaxPooling1D, LSTM, Dense, Reshape\n",
        "from keras.models import Sequential\n",
        "from keras.layers import LSTM, Dense, Dropout\n",
        "from keras.regularizers import l1, l2\n",
        "from keras.callbacks import EarlyStopping, ModelCheckpoint\n",
        "\n",
        "\n",
        "import math\n",
        "import matplotlib.pyplot as plt\n",
        "import pandas as pd\n",
        "import numpy as np"
      ],
      "metadata": {
        "id": "PZ-jXuz2i7mD"
      },
      "execution_count": null,
      "outputs": []
    },
    {
      "cell_type": "code",
      "execution_count": 1,
      "metadata": {
        "colab": {
          "base_uri": "https://localhost:8080/"
        },
        "id": "Dpt9GXIDt3KT",
        "outputId": "1715c3f5-0ec2-4f65-fc84-4f01a1b2eb0f"
      },
      "outputs": [
        {
          "output_type": "stream",
          "name": "stdout",
          "text": [
            "Mounted at /content/drive\n"
          ]
        }
      ],
      "source": [
        "from google.colab import drive\n",
        "drive.mount('/content/drive')\n"
      ]
    },
    {
      "cell_type": "code",
      "execution_count": 2,
      "metadata": {
        "id": "I_Z23kA9uEya"
      },
      "outputs": [],
      "source": [
        "\n",
        "\n",
        "file_path = '/content/drive/My Drive/CSCI567/data/Merged_Data.csv'\n",
        "file_path_frb_h15_3 = '/content/drive/My Drive/CSCI567/data/FRB_H15-3.csv'\n",
        "df = pd.read_csv(file_path)\n",
        "\n",
        "# # Load the Merged_Data.csv file\n",
        "# merged_data = pd.read_csv(file_path)\n",
        "\n",
        "# # Load the FRB_H15-3.csv file, skipping initial metadata rows\n",
        "# frb_h15_3_data = pd.read_csv(file_path_frb_h15_3, skiprows=5)\n",
        "# print(frb_h15_3_data.columns)\n",
        "\n",
        "# # Convert the 'Date' column in merged_data and 'Time Period' column in frb_h15_3_data to datetime objects\n",
        "# merged_data['Date'] = pd.to_datetime(merged_data['Date'])\n",
        "# frb_h15_3_data['Time Period'] = pd.to_datetime(frb_h15_3_data['Time Period'])\n",
        "\n",
        "# # Merge the datasets on the time index\n",
        "# merged_dataset = pd.merge(merged_data, frb_h15_3_data, left_on='Date', right_on='Time Period', how='left')\n",
        "\n",
        "# # Drop the redundant 'Time Period' column after merge\n",
        "# merged_dataset = merged_dataset.drop(columns=['Time Period'])\n",
        "\n",
        "# # Displaying the first few rows of the merged dataset (optional)\n",
        "# print(merged_dataset.head())"
      ]
    },
    {
      "cell_type": "code",
      "execution_count": 3,
      "metadata": {
        "colab": {
          "base_uri": "https://localhost:8080/",
          "height": 376
        },
        "id": "MqMGEN43Oslz",
        "outputId": "643fccf2-c8ae-40c1-9692-d4709cde821c"
      },
      "outputs": [
        {
          "output_type": "execute_result",
          "data": {
            "text/plain": [
              "            Date  CPI_CPI  XRP_Open  XRP_High   XRP_Low  XRP_Close  \\\n",
              "3123  2023-04-07  302.918  0.503306  0.514165  0.499108   0.513736   \n",
              "3124  2023-04-08  302.918  0.513730  0.513730  0.504441   0.505716   \n",
              "3125  2023-04-09  302.918  0.505694  0.509143  0.500927   0.505834   \n",
              "3126  2023-04-10  302.918  0.505793  0.519673  0.501259   0.518318   \n",
              "3127  2023-04-11  302.918  0.518112  0.525884  0.513525   0.514492   \n",
              "\n",
              "      XRP_Adj Close    XRP_Volume     DJIA_DJIA  STICKY_STICKY  ...  VIX_LOW  \\\n",
              "3123       0.513736  1.060409e+09  33535.900000       6.322749  ...   18.495   \n",
              "3124       0.505716  5.876411e+08  33552.773333       6.322749  ...   18.640   \n",
              "3125       0.505834  5.505828e+08  33569.646667       6.322749  ...   18.785   \n",
              "3126       0.518318  9.143895e+08  33586.520000       6.322749  ...   18.930   \n",
              "3127       0.514492  1.276552e+09  33684.790000       6.322749  ...   18.560   \n",
              "\n",
              "      VIX_CLOSE  real_interest_rate_10Y_real_interest_rate_10Y  SP500_SP500  \\\n",
              "3123    18.5425                                       1.443914      4107.07   \n",
              "3124    18.6850                                       1.443914      4107.75   \n",
              "3125    18.8275                                       1.443914      4108.43   \n",
              "3126    18.9700                                       1.443914      4109.11   \n",
              "3127    19.1000                                       1.443914      4108.94   \n",
              "\n",
              "        BNB_Open    BNB_High     BNB_Low   BNB_Close  BNB_Adj Close  \\\n",
              "3123  312.453949  312.865265  309.983429  310.699493     310.699493   \n",
              "3124  310.665314  312.683258  310.388031  310.634735     310.634735   \n",
              "3125  310.659058  313.613159  309.884583  312.872253     312.872253   \n",
              "3126  312.868134  318.379059  311.811798  318.379059     318.379059   \n",
              "3127  318.537689  332.877777  318.155609  325.693817     325.693817   \n",
              "\n",
              "       BNB_Volume  \n",
              "3123  478098163.0  \n",
              "3124  461767801.0  \n",
              "3125  465627007.0  \n",
              "3126  565754261.0  \n",
              "3127  915240512.0  \n",
              "\n",
              "[5 rows x 47 columns]"
            ],
            "text/html": [
              "\n",
              "  <div id=\"df-10515189-2c87-4221-95d3-dfdfeb3fc612\" class=\"colab-df-container\">\n",
              "    <div>\n",
              "<style scoped>\n",
              "    .dataframe tbody tr th:only-of-type {\n",
              "        vertical-align: middle;\n",
              "    }\n",
              "\n",
              "    .dataframe tbody tr th {\n",
              "        vertical-align: top;\n",
              "    }\n",
              "\n",
              "    .dataframe thead th {\n",
              "        text-align: right;\n",
              "    }\n",
              "</style>\n",
              "<table border=\"1\" class=\"dataframe\">\n",
              "  <thead>\n",
              "    <tr style=\"text-align: right;\">\n",
              "      <th></th>\n",
              "      <th>Date</th>\n",
              "      <th>CPI_CPI</th>\n",
              "      <th>XRP_Open</th>\n",
              "      <th>XRP_High</th>\n",
              "      <th>XRP_Low</th>\n",
              "      <th>XRP_Close</th>\n",
              "      <th>XRP_Adj Close</th>\n",
              "      <th>XRP_Volume</th>\n",
              "      <th>DJIA_DJIA</th>\n",
              "      <th>STICKY_STICKY</th>\n",
              "      <th>...</th>\n",
              "      <th>VIX_LOW</th>\n",
              "      <th>VIX_CLOSE</th>\n",
              "      <th>real_interest_rate_10Y_real_interest_rate_10Y</th>\n",
              "      <th>SP500_SP500</th>\n",
              "      <th>BNB_Open</th>\n",
              "      <th>BNB_High</th>\n",
              "      <th>BNB_Low</th>\n",
              "      <th>BNB_Close</th>\n",
              "      <th>BNB_Adj Close</th>\n",
              "      <th>BNB_Volume</th>\n",
              "    </tr>\n",
              "  </thead>\n",
              "  <tbody>\n",
              "    <tr>\n",
              "      <th>3123</th>\n",
              "      <td>2023-04-07</td>\n",
              "      <td>302.918</td>\n",
              "      <td>0.503306</td>\n",
              "      <td>0.514165</td>\n",
              "      <td>0.499108</td>\n",
              "      <td>0.513736</td>\n",
              "      <td>0.513736</td>\n",
              "      <td>1.060409e+09</td>\n",
              "      <td>33535.900000</td>\n",
              "      <td>6.322749</td>\n",
              "      <td>...</td>\n",
              "      <td>18.495</td>\n",
              "      <td>18.5425</td>\n",
              "      <td>1.443914</td>\n",
              "      <td>4107.07</td>\n",
              "      <td>312.453949</td>\n",
              "      <td>312.865265</td>\n",
              "      <td>309.983429</td>\n",
              "      <td>310.699493</td>\n",
              "      <td>310.699493</td>\n",
              "      <td>478098163.0</td>\n",
              "    </tr>\n",
              "    <tr>\n",
              "      <th>3124</th>\n",
              "      <td>2023-04-08</td>\n",
              "      <td>302.918</td>\n",
              "      <td>0.513730</td>\n",
              "      <td>0.513730</td>\n",
              "      <td>0.504441</td>\n",
              "      <td>0.505716</td>\n",
              "      <td>0.505716</td>\n",
              "      <td>5.876411e+08</td>\n",
              "      <td>33552.773333</td>\n",
              "      <td>6.322749</td>\n",
              "      <td>...</td>\n",
              "      <td>18.640</td>\n",
              "      <td>18.6850</td>\n",
              "      <td>1.443914</td>\n",
              "      <td>4107.75</td>\n",
              "      <td>310.665314</td>\n",
              "      <td>312.683258</td>\n",
              "      <td>310.388031</td>\n",
              "      <td>310.634735</td>\n",
              "      <td>310.634735</td>\n",
              "      <td>461767801.0</td>\n",
              "    </tr>\n",
              "    <tr>\n",
              "      <th>3125</th>\n",
              "      <td>2023-04-09</td>\n",
              "      <td>302.918</td>\n",
              "      <td>0.505694</td>\n",
              "      <td>0.509143</td>\n",
              "      <td>0.500927</td>\n",
              "      <td>0.505834</td>\n",
              "      <td>0.505834</td>\n",
              "      <td>5.505828e+08</td>\n",
              "      <td>33569.646667</td>\n",
              "      <td>6.322749</td>\n",
              "      <td>...</td>\n",
              "      <td>18.785</td>\n",
              "      <td>18.8275</td>\n",
              "      <td>1.443914</td>\n",
              "      <td>4108.43</td>\n",
              "      <td>310.659058</td>\n",
              "      <td>313.613159</td>\n",
              "      <td>309.884583</td>\n",
              "      <td>312.872253</td>\n",
              "      <td>312.872253</td>\n",
              "      <td>465627007.0</td>\n",
              "    </tr>\n",
              "    <tr>\n",
              "      <th>3126</th>\n",
              "      <td>2023-04-10</td>\n",
              "      <td>302.918</td>\n",
              "      <td>0.505793</td>\n",
              "      <td>0.519673</td>\n",
              "      <td>0.501259</td>\n",
              "      <td>0.518318</td>\n",
              "      <td>0.518318</td>\n",
              "      <td>9.143895e+08</td>\n",
              "      <td>33586.520000</td>\n",
              "      <td>6.322749</td>\n",
              "      <td>...</td>\n",
              "      <td>18.930</td>\n",
              "      <td>18.9700</td>\n",
              "      <td>1.443914</td>\n",
              "      <td>4109.11</td>\n",
              "      <td>312.868134</td>\n",
              "      <td>318.379059</td>\n",
              "      <td>311.811798</td>\n",
              "      <td>318.379059</td>\n",
              "      <td>318.379059</td>\n",
              "      <td>565754261.0</td>\n",
              "    </tr>\n",
              "    <tr>\n",
              "      <th>3127</th>\n",
              "      <td>2023-04-11</td>\n",
              "      <td>302.918</td>\n",
              "      <td>0.518112</td>\n",
              "      <td>0.525884</td>\n",
              "      <td>0.513525</td>\n",
              "      <td>0.514492</td>\n",
              "      <td>0.514492</td>\n",
              "      <td>1.276552e+09</td>\n",
              "      <td>33684.790000</td>\n",
              "      <td>6.322749</td>\n",
              "      <td>...</td>\n",
              "      <td>18.560</td>\n",
              "      <td>19.1000</td>\n",
              "      <td>1.443914</td>\n",
              "      <td>4108.94</td>\n",
              "      <td>318.537689</td>\n",
              "      <td>332.877777</td>\n",
              "      <td>318.155609</td>\n",
              "      <td>325.693817</td>\n",
              "      <td>325.693817</td>\n",
              "      <td>915240512.0</td>\n",
              "    </tr>\n",
              "  </tbody>\n",
              "</table>\n",
              "<p>5 rows × 47 columns</p>\n",
              "</div>\n",
              "    <div class=\"colab-df-buttons\">\n",
              "\n",
              "  <div class=\"colab-df-container\">\n",
              "    <button class=\"colab-df-convert\" onclick=\"convertToInteractive('df-10515189-2c87-4221-95d3-dfdfeb3fc612')\"\n",
              "            title=\"Convert this dataframe to an interactive table.\"\n",
              "            style=\"display:none;\">\n",
              "\n",
              "  <svg xmlns=\"http://www.w3.org/2000/svg\" height=\"24px\" viewBox=\"0 -960 960 960\">\n",
              "    <path d=\"M120-120v-720h720v720H120Zm60-500h600v-160H180v160Zm220 220h160v-160H400v160Zm0 220h160v-160H400v160ZM180-400h160v-160H180v160Zm440 0h160v-160H620v160ZM180-180h160v-160H180v160Zm440 0h160v-160H620v160Z\"/>\n",
              "  </svg>\n",
              "    </button>\n",
              "\n",
              "  <style>\n",
              "    .colab-df-container {\n",
              "      display:flex;\n",
              "      gap: 12px;\n",
              "    }\n",
              "\n",
              "    .colab-df-convert {\n",
              "      background-color: #E8F0FE;\n",
              "      border: none;\n",
              "      border-radius: 50%;\n",
              "      cursor: pointer;\n",
              "      display: none;\n",
              "      fill: #1967D2;\n",
              "      height: 32px;\n",
              "      padding: 0 0 0 0;\n",
              "      width: 32px;\n",
              "    }\n",
              "\n",
              "    .colab-df-convert:hover {\n",
              "      background-color: #E2EBFA;\n",
              "      box-shadow: 0px 1px 2px rgba(60, 64, 67, 0.3), 0px 1px 3px 1px rgba(60, 64, 67, 0.15);\n",
              "      fill: #174EA6;\n",
              "    }\n",
              "\n",
              "    .colab-df-buttons div {\n",
              "      margin-bottom: 4px;\n",
              "    }\n",
              "\n",
              "    [theme=dark] .colab-df-convert {\n",
              "      background-color: #3B4455;\n",
              "      fill: #D2E3FC;\n",
              "    }\n",
              "\n",
              "    [theme=dark] .colab-df-convert:hover {\n",
              "      background-color: #434B5C;\n",
              "      box-shadow: 0px 1px 3px 1px rgba(0, 0, 0, 0.15);\n",
              "      filter: drop-shadow(0px 1px 2px rgba(0, 0, 0, 0.3));\n",
              "      fill: #FFFFFF;\n",
              "    }\n",
              "  </style>\n",
              "\n",
              "    <script>\n",
              "      const buttonEl =\n",
              "        document.querySelector('#df-10515189-2c87-4221-95d3-dfdfeb3fc612 button.colab-df-convert');\n",
              "      buttonEl.style.display =\n",
              "        google.colab.kernel.accessAllowed ? 'block' : 'none';\n",
              "\n",
              "      async function convertToInteractive(key) {\n",
              "        const element = document.querySelector('#df-10515189-2c87-4221-95d3-dfdfeb3fc612');\n",
              "        const dataTable =\n",
              "          await google.colab.kernel.invokeFunction('convertToInteractive',\n",
              "                                                    [key], {});\n",
              "        if (!dataTable) return;\n",
              "\n",
              "        const docLinkHtml = 'Like what you see? Visit the ' +\n",
              "          '<a target=\"_blank\" href=https://colab.research.google.com/notebooks/data_table.ipynb>data table notebook</a>'\n",
              "          + ' to learn more about interactive tables.';\n",
              "        element.innerHTML = '';\n",
              "        dataTable['output_type'] = 'display_data';\n",
              "        await google.colab.output.renderOutput(dataTable, element);\n",
              "        const docLink = document.createElement('div');\n",
              "        docLink.innerHTML = docLinkHtml;\n",
              "        element.appendChild(docLink);\n",
              "      }\n",
              "    </script>\n",
              "  </div>\n",
              "\n",
              "\n",
              "<div id=\"df-d779b59e-83a5-4aee-8602-b0fcb9c81cf5\">\n",
              "  <button class=\"colab-df-quickchart\" onclick=\"quickchart('df-d779b59e-83a5-4aee-8602-b0fcb9c81cf5')\"\n",
              "            title=\"Suggest charts\"\n",
              "            style=\"display:none;\">\n",
              "\n",
              "<svg xmlns=\"http://www.w3.org/2000/svg\" height=\"24px\"viewBox=\"0 0 24 24\"\n",
              "     width=\"24px\">\n",
              "    <g>\n",
              "        <path d=\"M19 3H5c-1.1 0-2 .9-2 2v14c0 1.1.9 2 2 2h14c1.1 0 2-.9 2-2V5c0-1.1-.9-2-2-2zM9 17H7v-7h2v7zm4 0h-2V7h2v10zm4 0h-2v-4h2v4z\"/>\n",
              "    </g>\n",
              "</svg>\n",
              "  </button>\n",
              "\n",
              "<style>\n",
              "  .colab-df-quickchart {\n",
              "      --bg-color: #E8F0FE;\n",
              "      --fill-color: #1967D2;\n",
              "      --hover-bg-color: #E2EBFA;\n",
              "      --hover-fill-color: #174EA6;\n",
              "      --disabled-fill-color: #AAA;\n",
              "      --disabled-bg-color: #DDD;\n",
              "  }\n",
              "\n",
              "  [theme=dark] .colab-df-quickchart {\n",
              "      --bg-color: #3B4455;\n",
              "      --fill-color: #D2E3FC;\n",
              "      --hover-bg-color: #434B5C;\n",
              "      --hover-fill-color: #FFFFFF;\n",
              "      --disabled-bg-color: #3B4455;\n",
              "      --disabled-fill-color: #666;\n",
              "  }\n",
              "\n",
              "  .colab-df-quickchart {\n",
              "    background-color: var(--bg-color);\n",
              "    border: none;\n",
              "    border-radius: 50%;\n",
              "    cursor: pointer;\n",
              "    display: none;\n",
              "    fill: var(--fill-color);\n",
              "    height: 32px;\n",
              "    padding: 0;\n",
              "    width: 32px;\n",
              "  }\n",
              "\n",
              "  .colab-df-quickchart:hover {\n",
              "    background-color: var(--hover-bg-color);\n",
              "    box-shadow: 0 1px 2px rgba(60, 64, 67, 0.3), 0 1px 3px 1px rgba(60, 64, 67, 0.15);\n",
              "    fill: var(--button-hover-fill-color);\n",
              "  }\n",
              "\n",
              "  .colab-df-quickchart-complete:disabled,\n",
              "  .colab-df-quickchart-complete:disabled:hover {\n",
              "    background-color: var(--disabled-bg-color);\n",
              "    fill: var(--disabled-fill-color);\n",
              "    box-shadow: none;\n",
              "  }\n",
              "\n",
              "  .colab-df-spinner {\n",
              "    border: 2px solid var(--fill-color);\n",
              "    border-color: transparent;\n",
              "    border-bottom-color: var(--fill-color);\n",
              "    animation:\n",
              "      spin 1s steps(1) infinite;\n",
              "  }\n",
              "\n",
              "  @keyframes spin {\n",
              "    0% {\n",
              "      border-color: transparent;\n",
              "      border-bottom-color: var(--fill-color);\n",
              "      border-left-color: var(--fill-color);\n",
              "    }\n",
              "    20% {\n",
              "      border-color: transparent;\n",
              "      border-left-color: var(--fill-color);\n",
              "      border-top-color: var(--fill-color);\n",
              "    }\n",
              "    30% {\n",
              "      border-color: transparent;\n",
              "      border-left-color: var(--fill-color);\n",
              "      border-top-color: var(--fill-color);\n",
              "      border-right-color: var(--fill-color);\n",
              "    }\n",
              "    40% {\n",
              "      border-color: transparent;\n",
              "      border-right-color: var(--fill-color);\n",
              "      border-top-color: var(--fill-color);\n",
              "    }\n",
              "    60% {\n",
              "      border-color: transparent;\n",
              "      border-right-color: var(--fill-color);\n",
              "    }\n",
              "    80% {\n",
              "      border-color: transparent;\n",
              "      border-right-color: var(--fill-color);\n",
              "      border-bottom-color: var(--fill-color);\n",
              "    }\n",
              "    90% {\n",
              "      border-color: transparent;\n",
              "      border-bottom-color: var(--fill-color);\n",
              "    }\n",
              "  }\n",
              "</style>\n",
              "\n",
              "  <script>\n",
              "    async function quickchart(key) {\n",
              "      const quickchartButtonEl =\n",
              "        document.querySelector('#' + key + ' button');\n",
              "      quickchartButtonEl.disabled = true;  // To prevent multiple clicks.\n",
              "      quickchartButtonEl.classList.add('colab-df-spinner');\n",
              "      try {\n",
              "        const charts = await google.colab.kernel.invokeFunction(\n",
              "            'suggestCharts', [key], {});\n",
              "      } catch (error) {\n",
              "        console.error('Error during call to suggestCharts:', error);\n",
              "      }\n",
              "      quickchartButtonEl.classList.remove('colab-df-spinner');\n",
              "      quickchartButtonEl.classList.add('colab-df-quickchart-complete');\n",
              "    }\n",
              "    (() => {\n",
              "      let quickchartButtonEl =\n",
              "        document.querySelector('#df-d779b59e-83a5-4aee-8602-b0fcb9c81cf5 button');\n",
              "      quickchartButtonEl.style.display =\n",
              "        google.colab.kernel.accessAllowed ? 'block' : 'none';\n",
              "    })();\n",
              "  </script>\n",
              "</div>\n",
              "    </div>\n",
              "  </div>\n"
            ]
          },
          "metadata": {},
          "execution_count": 3
        }
      ],
      "source": [
        "df.tail()"
      ]
    },
    {
      "cell_type": "code",
      "execution_count": 4,
      "metadata": {
        "colab": {
          "base_uri": "https://localhost:8080/"
        },
        "id": "2FI51HCJuW4S",
        "outputId": "956d6328-7379-4530-bf2e-40a3e4efcc7c"
      },
      "outputs": [
        {
          "output_type": "stream",
          "name": "stdout",
          "text": [
            "Index(['Date', 'CPI_CPI', 'XRP_Open', 'XRP_High', 'XRP_Low', 'XRP_Close',\n",
            "       'XRP_Adj Close', 'XRP_Volume', 'DJIA_DJIA', 'STICKY_STICKY',\n",
            "       'Ethereum_Open', 'Ethereum_High', 'Ethereum_Low', 'Ethereum_Close',\n",
            "       'Ethereum_Adj Close', 'Ethereum_Volume', 'Litecoin_Open',\n",
            "       'Litecoin_High', 'Litecoin_Low', 'Litecoin_Close', 'Litecoin_Adj Close',\n",
            "       'Litecoin_Volume', 'Bitcoin_Open', 'Bitcoin_High', 'Bitcoin_Low',\n",
            "       'Bitcoin_Close', 'Bitcoin_Adj Close', 'Bitcoin_Volume', 'Cardano_Open',\n",
            "       'Cardano_High', 'Cardano_Low', 'Cardano_Close', 'Cardano_Adj Close',\n",
            "       'Cardano_Volume', '10Y_Inflation_10Y_Inflation', 'VIX_OPEN', 'VIX_HIGH',\n",
            "       'VIX_LOW', 'VIX_CLOSE', 'real_interest_rate_10Y_real_interest_rate_10Y',\n",
            "       'SP500_SP500', 'BNB_Open', 'BNB_High', 'BNB_Low', 'BNB_Close',\n",
            "       'BNB_Adj Close', 'BNB_Volume'],\n",
            "      dtype='object')\n"
          ]
        }
      ],
      "source": [
        "#print the dataframe columns\n",
        "print(df.columns)"
      ]
    },
    {
      "cell_type": "code",
      "execution_count": 5,
      "metadata": {
        "colab": {
          "base_uri": "https://localhost:8080/",
          "height": 664
        },
        "id": "OI6buOyFuYMU",
        "outputId": "54dda9ec-e7b6-467b-fd39-bb24b3341cc2"
      },
      "outputs": [
        {
          "output_type": "execute_result",
          "data": {
            "text/plain": [
              "            Date  CPI_CPI  XRP_Open  XRP_High   XRP_Low  XRP_Close  \\\n",
              "1149  2017-11-10  247.284  0.218256  0.219068  0.205260   0.206483   \n",
              "1150  2017-11-11  247.284  0.205948  0.214456  0.205459   0.210430   \n",
              "1151  2017-11-12  247.284  0.210214  0.210214  0.195389   0.197339   \n",
              "1152  2017-11-13  247.284  0.197472  0.204081  0.197456   0.203442   \n",
              "1153  2017-11-14  247.284  0.203679  0.213693  0.203679   0.209825   \n",
              "...          ...      ...       ...       ...       ...        ...   \n",
              "3123  2023-04-07  302.918  0.503306  0.514165  0.499108   0.513736   \n",
              "3124  2023-04-08  302.918  0.513730  0.513730  0.504441   0.505716   \n",
              "3125  2023-04-09  302.918  0.505694  0.509143  0.500927   0.505834   \n",
              "3126  2023-04-10  302.918  0.505793  0.519673  0.501259   0.518318   \n",
              "3127  2023-04-11  302.918  0.518112  0.525884  0.513525   0.514492   \n",
              "\n",
              "      XRP_Adj Close    XRP_Volume     DJIA_DJIA  STICKY_STICKY  ...  \\\n",
              "1149       0.206483  1.410330e+08  23422.210000       2.115031  ...   \n",
              "1150       0.210430  1.345030e+08  23428.040000       2.115031  ...   \n",
              "1151       0.197339  2.511750e+08  23433.870000       2.115031  ...   \n",
              "1152       0.203442  1.325670e+08  23439.700000       2.115031  ...   \n",
              "1153       0.209825  1.273610e+08  23409.470000       2.115031  ...   \n",
              "...             ...           ...           ...            ...  ...   \n",
              "3123       0.513736  1.060409e+09  33535.900000       6.322749  ...   \n",
              "3124       0.505716  5.876411e+08  33552.773333       6.322749  ...   \n",
              "3125       0.505834  5.505828e+08  33569.646667       6.322749  ...   \n",
              "3126       0.518318  9.143895e+08  33586.520000       6.322749  ...   \n",
              "3127       0.514492  1.276552e+09  33684.790000       6.322749  ...   \n",
              "\n",
              "        VIX_LOW  VIX_CLOSE  real_interest_rate_10Y_real_interest_rate_10Y  \\\n",
              "1149  10.500000    11.2900                                       0.752190   \n",
              "1150  10.666667    11.3600                                       0.752190   \n",
              "1151  10.833333    11.4300                                       0.752190   \n",
              "1152  11.000000    11.5000                                       0.752190   \n",
              "1153  11.450000    11.5900                                       0.752190   \n",
              "...         ...        ...                                            ...   \n",
              "3123  18.495000    18.5425                                       1.443914   \n",
              "3124  18.640000    18.6850                                       1.443914   \n",
              "3125  18.785000    18.8275                                       1.443914   \n",
              "3126  18.930000    18.9700                                       1.443914   \n",
              "3127  18.560000    19.1000                                       1.443914   \n",
              "\n",
              "      SP500_SP500    BNB_Open    BNB_High     BNB_Low   BNB_Close  \\\n",
              "1149  2582.300000    2.007730    2.069470    1.644780    1.796840   \n",
              "1150  2583.146667    1.786280    1.917750    1.614290    1.670470   \n",
              "1151  2583.993333    1.668890    1.672800    1.462560    1.519690   \n",
              "1152  2584.840000    1.526010    1.735020    1.517600    1.686620   \n",
              "1153  2578.870000    1.689280    1.735370    1.568270    1.592580   \n",
              "...           ...         ...         ...         ...         ...   \n",
              "3123  4107.070000  312.453949  312.865265  309.983429  310.699493   \n",
              "3124  4107.750000  310.665314  312.683258  310.388031  310.634735   \n",
              "3125  4108.430000  310.659058  313.613159  309.884583  312.872253   \n",
              "3126  4109.110000  312.868134  318.379059  311.811798  318.379059   \n",
              "3127  4108.940000  318.537689  332.877777  318.155609  325.693817   \n",
              "\n",
              "      BNB_Adj Close   BNB_Volume  \n",
              "1149       1.796840   11155000.0  \n",
              "1150       1.670470    8178150.0  \n",
              "1151       1.519690   15298700.0  \n",
              "1152       1.686620   12238800.0  \n",
              "1153       1.592580    7829600.0  \n",
              "...             ...          ...  \n",
              "3123     310.699493  478098163.0  \n",
              "3124     310.634735  461767801.0  \n",
              "3125     312.872253  465627007.0  \n",
              "3126     318.379059  565754261.0  \n",
              "3127     325.693817  915240512.0  \n",
              "\n",
              "[1979 rows x 47 columns]"
            ],
            "text/html": [
              "\n",
              "  <div id=\"df-27f8c06f-d753-456c-a92b-e88337133c69\" class=\"colab-df-container\">\n",
              "    <div>\n",
              "<style scoped>\n",
              "    .dataframe tbody tr th:only-of-type {\n",
              "        vertical-align: middle;\n",
              "    }\n",
              "\n",
              "    .dataframe tbody tr th {\n",
              "        vertical-align: top;\n",
              "    }\n",
              "\n",
              "    .dataframe thead th {\n",
              "        text-align: right;\n",
              "    }\n",
              "</style>\n",
              "<table border=\"1\" class=\"dataframe\">\n",
              "  <thead>\n",
              "    <tr style=\"text-align: right;\">\n",
              "      <th></th>\n",
              "      <th>Date</th>\n",
              "      <th>CPI_CPI</th>\n",
              "      <th>XRP_Open</th>\n",
              "      <th>XRP_High</th>\n",
              "      <th>XRP_Low</th>\n",
              "      <th>XRP_Close</th>\n",
              "      <th>XRP_Adj Close</th>\n",
              "      <th>XRP_Volume</th>\n",
              "      <th>DJIA_DJIA</th>\n",
              "      <th>STICKY_STICKY</th>\n",
              "      <th>...</th>\n",
              "      <th>VIX_LOW</th>\n",
              "      <th>VIX_CLOSE</th>\n",
              "      <th>real_interest_rate_10Y_real_interest_rate_10Y</th>\n",
              "      <th>SP500_SP500</th>\n",
              "      <th>BNB_Open</th>\n",
              "      <th>BNB_High</th>\n",
              "      <th>BNB_Low</th>\n",
              "      <th>BNB_Close</th>\n",
              "      <th>BNB_Adj Close</th>\n",
              "      <th>BNB_Volume</th>\n",
              "    </tr>\n",
              "  </thead>\n",
              "  <tbody>\n",
              "    <tr>\n",
              "      <th>1149</th>\n",
              "      <td>2017-11-10</td>\n",
              "      <td>247.284</td>\n",
              "      <td>0.218256</td>\n",
              "      <td>0.219068</td>\n",
              "      <td>0.205260</td>\n",
              "      <td>0.206483</td>\n",
              "      <td>0.206483</td>\n",
              "      <td>1.410330e+08</td>\n",
              "      <td>23422.210000</td>\n",
              "      <td>2.115031</td>\n",
              "      <td>...</td>\n",
              "      <td>10.500000</td>\n",
              "      <td>11.2900</td>\n",
              "      <td>0.752190</td>\n",
              "      <td>2582.300000</td>\n",
              "      <td>2.007730</td>\n",
              "      <td>2.069470</td>\n",
              "      <td>1.644780</td>\n",
              "      <td>1.796840</td>\n",
              "      <td>1.796840</td>\n",
              "      <td>11155000.0</td>\n",
              "    </tr>\n",
              "    <tr>\n",
              "      <th>1150</th>\n",
              "      <td>2017-11-11</td>\n",
              "      <td>247.284</td>\n",
              "      <td>0.205948</td>\n",
              "      <td>0.214456</td>\n",
              "      <td>0.205459</td>\n",
              "      <td>0.210430</td>\n",
              "      <td>0.210430</td>\n",
              "      <td>1.345030e+08</td>\n",
              "      <td>23428.040000</td>\n",
              "      <td>2.115031</td>\n",
              "      <td>...</td>\n",
              "      <td>10.666667</td>\n",
              "      <td>11.3600</td>\n",
              "      <td>0.752190</td>\n",
              "      <td>2583.146667</td>\n",
              "      <td>1.786280</td>\n",
              "      <td>1.917750</td>\n",
              "      <td>1.614290</td>\n",
              "      <td>1.670470</td>\n",
              "      <td>1.670470</td>\n",
              "      <td>8178150.0</td>\n",
              "    </tr>\n",
              "    <tr>\n",
              "      <th>1151</th>\n",
              "      <td>2017-11-12</td>\n",
              "      <td>247.284</td>\n",
              "      <td>0.210214</td>\n",
              "      <td>0.210214</td>\n",
              "      <td>0.195389</td>\n",
              "      <td>0.197339</td>\n",
              "      <td>0.197339</td>\n",
              "      <td>2.511750e+08</td>\n",
              "      <td>23433.870000</td>\n",
              "      <td>2.115031</td>\n",
              "      <td>...</td>\n",
              "      <td>10.833333</td>\n",
              "      <td>11.4300</td>\n",
              "      <td>0.752190</td>\n",
              "      <td>2583.993333</td>\n",
              "      <td>1.668890</td>\n",
              "      <td>1.672800</td>\n",
              "      <td>1.462560</td>\n",
              "      <td>1.519690</td>\n",
              "      <td>1.519690</td>\n",
              "      <td>15298700.0</td>\n",
              "    </tr>\n",
              "    <tr>\n",
              "      <th>1152</th>\n",
              "      <td>2017-11-13</td>\n",
              "      <td>247.284</td>\n",
              "      <td>0.197472</td>\n",
              "      <td>0.204081</td>\n",
              "      <td>0.197456</td>\n",
              "      <td>0.203442</td>\n",
              "      <td>0.203442</td>\n",
              "      <td>1.325670e+08</td>\n",
              "      <td>23439.700000</td>\n",
              "      <td>2.115031</td>\n",
              "      <td>...</td>\n",
              "      <td>11.000000</td>\n",
              "      <td>11.5000</td>\n",
              "      <td>0.752190</td>\n",
              "      <td>2584.840000</td>\n",
              "      <td>1.526010</td>\n",
              "      <td>1.735020</td>\n",
              "      <td>1.517600</td>\n",
              "      <td>1.686620</td>\n",
              "      <td>1.686620</td>\n",
              "      <td>12238800.0</td>\n",
              "    </tr>\n",
              "    <tr>\n",
              "      <th>1153</th>\n",
              "      <td>2017-11-14</td>\n",
              "      <td>247.284</td>\n",
              "      <td>0.203679</td>\n",
              "      <td>0.213693</td>\n",
              "      <td>0.203679</td>\n",
              "      <td>0.209825</td>\n",
              "      <td>0.209825</td>\n",
              "      <td>1.273610e+08</td>\n",
              "      <td>23409.470000</td>\n",
              "      <td>2.115031</td>\n",
              "      <td>...</td>\n",
              "      <td>11.450000</td>\n",
              "      <td>11.5900</td>\n",
              "      <td>0.752190</td>\n",
              "      <td>2578.870000</td>\n",
              "      <td>1.689280</td>\n",
              "      <td>1.735370</td>\n",
              "      <td>1.568270</td>\n",
              "      <td>1.592580</td>\n",
              "      <td>1.592580</td>\n",
              "      <td>7829600.0</td>\n",
              "    </tr>\n",
              "    <tr>\n",
              "      <th>...</th>\n",
              "      <td>...</td>\n",
              "      <td>...</td>\n",
              "      <td>...</td>\n",
              "      <td>...</td>\n",
              "      <td>...</td>\n",
              "      <td>...</td>\n",
              "      <td>...</td>\n",
              "      <td>...</td>\n",
              "      <td>...</td>\n",
              "      <td>...</td>\n",
              "      <td>...</td>\n",
              "      <td>...</td>\n",
              "      <td>...</td>\n",
              "      <td>...</td>\n",
              "      <td>...</td>\n",
              "      <td>...</td>\n",
              "      <td>...</td>\n",
              "      <td>...</td>\n",
              "      <td>...</td>\n",
              "      <td>...</td>\n",
              "      <td>...</td>\n",
              "    </tr>\n",
              "    <tr>\n",
              "      <th>3123</th>\n",
              "      <td>2023-04-07</td>\n",
              "      <td>302.918</td>\n",
              "      <td>0.503306</td>\n",
              "      <td>0.514165</td>\n",
              "      <td>0.499108</td>\n",
              "      <td>0.513736</td>\n",
              "      <td>0.513736</td>\n",
              "      <td>1.060409e+09</td>\n",
              "      <td>33535.900000</td>\n",
              "      <td>6.322749</td>\n",
              "      <td>...</td>\n",
              "      <td>18.495000</td>\n",
              "      <td>18.5425</td>\n",
              "      <td>1.443914</td>\n",
              "      <td>4107.070000</td>\n",
              "      <td>312.453949</td>\n",
              "      <td>312.865265</td>\n",
              "      <td>309.983429</td>\n",
              "      <td>310.699493</td>\n",
              "      <td>310.699493</td>\n",
              "      <td>478098163.0</td>\n",
              "    </tr>\n",
              "    <tr>\n",
              "      <th>3124</th>\n",
              "      <td>2023-04-08</td>\n",
              "      <td>302.918</td>\n",
              "      <td>0.513730</td>\n",
              "      <td>0.513730</td>\n",
              "      <td>0.504441</td>\n",
              "      <td>0.505716</td>\n",
              "      <td>0.505716</td>\n",
              "      <td>5.876411e+08</td>\n",
              "      <td>33552.773333</td>\n",
              "      <td>6.322749</td>\n",
              "      <td>...</td>\n",
              "      <td>18.640000</td>\n",
              "      <td>18.6850</td>\n",
              "      <td>1.443914</td>\n",
              "      <td>4107.750000</td>\n",
              "      <td>310.665314</td>\n",
              "      <td>312.683258</td>\n",
              "      <td>310.388031</td>\n",
              "      <td>310.634735</td>\n",
              "      <td>310.634735</td>\n",
              "      <td>461767801.0</td>\n",
              "    </tr>\n",
              "    <tr>\n",
              "      <th>3125</th>\n",
              "      <td>2023-04-09</td>\n",
              "      <td>302.918</td>\n",
              "      <td>0.505694</td>\n",
              "      <td>0.509143</td>\n",
              "      <td>0.500927</td>\n",
              "      <td>0.505834</td>\n",
              "      <td>0.505834</td>\n",
              "      <td>5.505828e+08</td>\n",
              "      <td>33569.646667</td>\n",
              "      <td>6.322749</td>\n",
              "      <td>...</td>\n",
              "      <td>18.785000</td>\n",
              "      <td>18.8275</td>\n",
              "      <td>1.443914</td>\n",
              "      <td>4108.430000</td>\n",
              "      <td>310.659058</td>\n",
              "      <td>313.613159</td>\n",
              "      <td>309.884583</td>\n",
              "      <td>312.872253</td>\n",
              "      <td>312.872253</td>\n",
              "      <td>465627007.0</td>\n",
              "    </tr>\n",
              "    <tr>\n",
              "      <th>3126</th>\n",
              "      <td>2023-04-10</td>\n",
              "      <td>302.918</td>\n",
              "      <td>0.505793</td>\n",
              "      <td>0.519673</td>\n",
              "      <td>0.501259</td>\n",
              "      <td>0.518318</td>\n",
              "      <td>0.518318</td>\n",
              "      <td>9.143895e+08</td>\n",
              "      <td>33586.520000</td>\n",
              "      <td>6.322749</td>\n",
              "      <td>...</td>\n",
              "      <td>18.930000</td>\n",
              "      <td>18.9700</td>\n",
              "      <td>1.443914</td>\n",
              "      <td>4109.110000</td>\n",
              "      <td>312.868134</td>\n",
              "      <td>318.379059</td>\n",
              "      <td>311.811798</td>\n",
              "      <td>318.379059</td>\n",
              "      <td>318.379059</td>\n",
              "      <td>565754261.0</td>\n",
              "    </tr>\n",
              "    <tr>\n",
              "      <th>3127</th>\n",
              "      <td>2023-04-11</td>\n",
              "      <td>302.918</td>\n",
              "      <td>0.518112</td>\n",
              "      <td>0.525884</td>\n",
              "      <td>0.513525</td>\n",
              "      <td>0.514492</td>\n",
              "      <td>0.514492</td>\n",
              "      <td>1.276552e+09</td>\n",
              "      <td>33684.790000</td>\n",
              "      <td>6.322749</td>\n",
              "      <td>...</td>\n",
              "      <td>18.560000</td>\n",
              "      <td>19.1000</td>\n",
              "      <td>1.443914</td>\n",
              "      <td>4108.940000</td>\n",
              "      <td>318.537689</td>\n",
              "      <td>332.877777</td>\n",
              "      <td>318.155609</td>\n",
              "      <td>325.693817</td>\n",
              "      <td>325.693817</td>\n",
              "      <td>915240512.0</td>\n",
              "    </tr>\n",
              "  </tbody>\n",
              "</table>\n",
              "<p>1979 rows × 47 columns</p>\n",
              "</div>\n",
              "    <div class=\"colab-df-buttons\">\n",
              "\n",
              "  <div class=\"colab-df-container\">\n",
              "    <button class=\"colab-df-convert\" onclick=\"convertToInteractive('df-27f8c06f-d753-456c-a92b-e88337133c69')\"\n",
              "            title=\"Convert this dataframe to an interactive table.\"\n",
              "            style=\"display:none;\">\n",
              "\n",
              "  <svg xmlns=\"http://www.w3.org/2000/svg\" height=\"24px\" viewBox=\"0 -960 960 960\">\n",
              "    <path d=\"M120-120v-720h720v720H120Zm60-500h600v-160H180v160Zm220 220h160v-160H400v160Zm0 220h160v-160H400v160ZM180-400h160v-160H180v160Zm440 0h160v-160H620v160ZM180-180h160v-160H180v160Zm440 0h160v-160H620v160Z\"/>\n",
              "  </svg>\n",
              "    </button>\n",
              "\n",
              "  <style>\n",
              "    .colab-df-container {\n",
              "      display:flex;\n",
              "      gap: 12px;\n",
              "    }\n",
              "\n",
              "    .colab-df-convert {\n",
              "      background-color: #E8F0FE;\n",
              "      border: none;\n",
              "      border-radius: 50%;\n",
              "      cursor: pointer;\n",
              "      display: none;\n",
              "      fill: #1967D2;\n",
              "      height: 32px;\n",
              "      padding: 0 0 0 0;\n",
              "      width: 32px;\n",
              "    }\n",
              "\n",
              "    .colab-df-convert:hover {\n",
              "      background-color: #E2EBFA;\n",
              "      box-shadow: 0px 1px 2px rgba(60, 64, 67, 0.3), 0px 1px 3px 1px rgba(60, 64, 67, 0.15);\n",
              "      fill: #174EA6;\n",
              "    }\n",
              "\n",
              "    .colab-df-buttons div {\n",
              "      margin-bottom: 4px;\n",
              "    }\n",
              "\n",
              "    [theme=dark] .colab-df-convert {\n",
              "      background-color: #3B4455;\n",
              "      fill: #D2E3FC;\n",
              "    }\n",
              "\n",
              "    [theme=dark] .colab-df-convert:hover {\n",
              "      background-color: #434B5C;\n",
              "      box-shadow: 0px 1px 3px 1px rgba(0, 0, 0, 0.15);\n",
              "      filter: drop-shadow(0px 1px 2px rgba(0, 0, 0, 0.3));\n",
              "      fill: #FFFFFF;\n",
              "    }\n",
              "  </style>\n",
              "\n",
              "    <script>\n",
              "      const buttonEl =\n",
              "        document.querySelector('#df-27f8c06f-d753-456c-a92b-e88337133c69 button.colab-df-convert');\n",
              "      buttonEl.style.display =\n",
              "        google.colab.kernel.accessAllowed ? 'block' : 'none';\n",
              "\n",
              "      async function convertToInteractive(key) {\n",
              "        const element = document.querySelector('#df-27f8c06f-d753-456c-a92b-e88337133c69');\n",
              "        const dataTable =\n",
              "          await google.colab.kernel.invokeFunction('convertToInteractive',\n",
              "                                                    [key], {});\n",
              "        if (!dataTable) return;\n",
              "\n",
              "        const docLinkHtml = 'Like what you see? Visit the ' +\n",
              "          '<a target=\"_blank\" href=https://colab.research.google.com/notebooks/data_table.ipynb>data table notebook</a>'\n",
              "          + ' to learn more about interactive tables.';\n",
              "        element.innerHTML = '';\n",
              "        dataTable['output_type'] = 'display_data';\n",
              "        await google.colab.output.renderOutput(dataTable, element);\n",
              "        const docLink = document.createElement('div');\n",
              "        docLink.innerHTML = docLinkHtml;\n",
              "        element.appendChild(docLink);\n",
              "      }\n",
              "    </script>\n",
              "  </div>\n",
              "\n",
              "\n",
              "<div id=\"df-3f8722f1-b887-4f7c-8a19-ccd9276e00a8\">\n",
              "  <button class=\"colab-df-quickchart\" onclick=\"quickchart('df-3f8722f1-b887-4f7c-8a19-ccd9276e00a8')\"\n",
              "            title=\"Suggest charts\"\n",
              "            style=\"display:none;\">\n",
              "\n",
              "<svg xmlns=\"http://www.w3.org/2000/svg\" height=\"24px\"viewBox=\"0 0 24 24\"\n",
              "     width=\"24px\">\n",
              "    <g>\n",
              "        <path d=\"M19 3H5c-1.1 0-2 .9-2 2v14c0 1.1.9 2 2 2h14c1.1 0 2-.9 2-2V5c0-1.1-.9-2-2-2zM9 17H7v-7h2v7zm4 0h-2V7h2v10zm4 0h-2v-4h2v4z\"/>\n",
              "    </g>\n",
              "</svg>\n",
              "  </button>\n",
              "\n",
              "<style>\n",
              "  .colab-df-quickchart {\n",
              "      --bg-color: #E8F0FE;\n",
              "      --fill-color: #1967D2;\n",
              "      --hover-bg-color: #E2EBFA;\n",
              "      --hover-fill-color: #174EA6;\n",
              "      --disabled-fill-color: #AAA;\n",
              "      --disabled-bg-color: #DDD;\n",
              "  }\n",
              "\n",
              "  [theme=dark] .colab-df-quickchart {\n",
              "      --bg-color: #3B4455;\n",
              "      --fill-color: #D2E3FC;\n",
              "      --hover-bg-color: #434B5C;\n",
              "      --hover-fill-color: #FFFFFF;\n",
              "      --disabled-bg-color: #3B4455;\n",
              "      --disabled-fill-color: #666;\n",
              "  }\n",
              "\n",
              "  .colab-df-quickchart {\n",
              "    background-color: var(--bg-color);\n",
              "    border: none;\n",
              "    border-radius: 50%;\n",
              "    cursor: pointer;\n",
              "    display: none;\n",
              "    fill: var(--fill-color);\n",
              "    height: 32px;\n",
              "    padding: 0;\n",
              "    width: 32px;\n",
              "  }\n",
              "\n",
              "  .colab-df-quickchart:hover {\n",
              "    background-color: var(--hover-bg-color);\n",
              "    box-shadow: 0 1px 2px rgba(60, 64, 67, 0.3), 0 1px 3px 1px rgba(60, 64, 67, 0.15);\n",
              "    fill: var(--button-hover-fill-color);\n",
              "  }\n",
              "\n",
              "  .colab-df-quickchart-complete:disabled,\n",
              "  .colab-df-quickchart-complete:disabled:hover {\n",
              "    background-color: var(--disabled-bg-color);\n",
              "    fill: var(--disabled-fill-color);\n",
              "    box-shadow: none;\n",
              "  }\n",
              "\n",
              "  .colab-df-spinner {\n",
              "    border: 2px solid var(--fill-color);\n",
              "    border-color: transparent;\n",
              "    border-bottom-color: var(--fill-color);\n",
              "    animation:\n",
              "      spin 1s steps(1) infinite;\n",
              "  }\n",
              "\n",
              "  @keyframes spin {\n",
              "    0% {\n",
              "      border-color: transparent;\n",
              "      border-bottom-color: var(--fill-color);\n",
              "      border-left-color: var(--fill-color);\n",
              "    }\n",
              "    20% {\n",
              "      border-color: transparent;\n",
              "      border-left-color: var(--fill-color);\n",
              "      border-top-color: var(--fill-color);\n",
              "    }\n",
              "    30% {\n",
              "      border-color: transparent;\n",
              "      border-left-color: var(--fill-color);\n",
              "      border-top-color: var(--fill-color);\n",
              "      border-right-color: var(--fill-color);\n",
              "    }\n",
              "    40% {\n",
              "      border-color: transparent;\n",
              "      border-right-color: var(--fill-color);\n",
              "      border-top-color: var(--fill-color);\n",
              "    }\n",
              "    60% {\n",
              "      border-color: transparent;\n",
              "      border-right-color: var(--fill-color);\n",
              "    }\n",
              "    80% {\n",
              "      border-color: transparent;\n",
              "      border-right-color: var(--fill-color);\n",
              "      border-bottom-color: var(--fill-color);\n",
              "    }\n",
              "    90% {\n",
              "      border-color: transparent;\n",
              "      border-bottom-color: var(--fill-color);\n",
              "    }\n",
              "  }\n",
              "</style>\n",
              "\n",
              "  <script>\n",
              "    async function quickchart(key) {\n",
              "      const quickchartButtonEl =\n",
              "        document.querySelector('#' + key + ' button');\n",
              "      quickchartButtonEl.disabled = true;  // To prevent multiple clicks.\n",
              "      quickchartButtonEl.classList.add('colab-df-spinner');\n",
              "      try {\n",
              "        const charts = await google.colab.kernel.invokeFunction(\n",
              "            'suggestCharts', [key], {});\n",
              "      } catch (error) {\n",
              "        console.error('Error during call to suggestCharts:', error);\n",
              "      }\n",
              "      quickchartButtonEl.classList.remove('colab-df-spinner');\n",
              "      quickchartButtonEl.classList.add('colab-df-quickchart-complete');\n",
              "    }\n",
              "    (() => {\n",
              "      let quickchartButtonEl =\n",
              "        document.querySelector('#df-3f8722f1-b887-4f7c-8a19-ccd9276e00a8 button');\n",
              "      quickchartButtonEl.style.display =\n",
              "        google.colab.kernel.accessAllowed ? 'block' : 'none';\n",
              "    })();\n",
              "  </script>\n",
              "</div>\n",
              "    </div>\n",
              "  </div>\n"
            ]
          },
          "metadata": {},
          "execution_count": 5
        }
      ],
      "source": [
        "# delelte the rows with 0\n",
        "df_filtered_zero = df.loc[~(df == 0).any(axis=1)]\n",
        "\n",
        "# print the dataframe\n",
        "df_filtered_zero"
      ]
    },
    {
      "cell_type": "markdown",
      "metadata": {
        "id": "p4faK_EqvReq"
      },
      "source": [
        "# 2. Feature procese"
      ]
    },
    {
      "cell_type": "markdown",
      "metadata": {
        "id": "S4ZAkqR-wYY3"
      },
      "source": [
        "### Cleaned data\n"
      ]
    },
    {
      "cell_type": "code",
      "execution_count": 6,
      "metadata": {
        "colab": {
          "base_uri": "https://localhost:8080/"
        },
        "id": "jZveBcHbwX4O",
        "outputId": "db34f75c-f552-4267-be00-7e7dc0e7e9c3"
      },
      "outputs": [
        {
          "output_type": "stream",
          "name": "stdout",
          "text": [
            "<class 'pandas.core.frame.DataFrame'>\n",
            "Int64Index: 1979 entries, 1149 to 3127\n",
            "Data columns (total 47 columns):\n",
            " #   Column                                         Non-Null Count  Dtype  \n",
            "---  ------                                         --------------  -----  \n",
            " 0   Date                                           1979 non-null   object \n",
            " 1   CPI_CPI                                        1979 non-null   float64\n",
            " 2   XRP_Open                                       1979 non-null   float64\n",
            " 3   XRP_High                                       1979 non-null   float64\n",
            " 4   XRP_Low                                        1979 non-null   float64\n",
            " 5   XRP_Close                                      1979 non-null   float64\n",
            " 6   XRP_Adj Close                                  1979 non-null   float64\n",
            " 7   XRP_Volume                                     1979 non-null   float64\n",
            " 8   DJIA_DJIA                                      1979 non-null   float64\n",
            " 9   STICKY_STICKY                                  1979 non-null   float64\n",
            " 10  Ethereum_Open                                  1979 non-null   float64\n",
            " 11  Ethereum_High                                  1979 non-null   float64\n",
            " 12  Ethereum_Low                                   1979 non-null   float64\n",
            " 13  Ethereum_Close                                 1979 non-null   float64\n",
            " 14  Ethereum_Adj Close                             1979 non-null   float64\n",
            " 15  Ethereum_Volume                                1979 non-null   float64\n",
            " 16  Litecoin_Open                                  1979 non-null   float64\n",
            " 17  Litecoin_High                                  1979 non-null   float64\n",
            " 18  Litecoin_Low                                   1979 non-null   float64\n",
            " 19  Litecoin_Close                                 1979 non-null   float64\n",
            " 20  Litecoin_Adj Close                             1979 non-null   float64\n",
            " 21  Litecoin_Volume                                1979 non-null   int64  \n",
            " 22  Bitcoin_Open                                   1979 non-null   float64\n",
            " 23  Bitcoin_High                                   1979 non-null   float64\n",
            " 24  Bitcoin_Low                                    1979 non-null   float64\n",
            " 25  Bitcoin_Close                                  1979 non-null   float64\n",
            " 26  Bitcoin_Adj Close                              1979 non-null   float64\n",
            " 27  Bitcoin_Volume                                 1979 non-null   int64  \n",
            " 28  Cardano_Open                                   1979 non-null   float64\n",
            " 29  Cardano_High                                   1979 non-null   float64\n",
            " 30  Cardano_Low                                    1979 non-null   float64\n",
            " 31  Cardano_Close                                  1979 non-null   float64\n",
            " 32  Cardano_Adj Close                              1979 non-null   float64\n",
            " 33  Cardano_Volume                                 1979 non-null   float64\n",
            " 34  10Y_Inflation_10Y_Inflation                    1979 non-null   float64\n",
            " 35  VIX_OPEN                                       1979 non-null   float64\n",
            " 36  VIX_HIGH                                       1979 non-null   float64\n",
            " 37  VIX_LOW                                        1979 non-null   float64\n",
            " 38  VIX_CLOSE                                      1979 non-null   float64\n",
            " 39  real_interest_rate_10Y_real_interest_rate_10Y  1979 non-null   float64\n",
            " 40  SP500_SP500                                    1979 non-null   float64\n",
            " 41  BNB_Open                                       1979 non-null   float64\n",
            " 42  BNB_High                                       1979 non-null   float64\n",
            " 43  BNB_Low                                        1979 non-null   float64\n",
            " 44  BNB_Close                                      1979 non-null   float64\n",
            " 45  BNB_Adj Close                                  1979 non-null   float64\n",
            " 46  BNB_Volume                                     1979 non-null   float64\n",
            "dtypes: float64(44), int64(2), object(1)\n",
            "memory usage: 742.1+ KB\n"
          ]
        }
      ],
      "source": [
        "df_filtered_zero_copy_1 = df_filtered_zero.copy()\n",
        "df_filtered_zero_copy_1.info()"
      ]
    },
    {
      "cell_type": "code",
      "execution_count": 7,
      "metadata": {
        "colab": {
          "base_uri": "https://localhost:8080/",
          "height": 618
        },
        "id": "dB0sK8lOwQEm",
        "outputId": "722b3f79-adcd-4463-95dc-c86900048248"
      },
      "outputs": [
        {
          "output_type": "execute_result",
          "data": {
            "text/plain": [
              "<Axes: >"
            ]
          },
          "metadata": {},
          "execution_count": 7
        },
        {
          "output_type": "display_data",
          "data": {
            "text/plain": [
              "<Figure size 1600x700 with 1 Axes>"
            ],
            "image/png": "[encoded data removed]"
          },
          "metadata": {}
        }
      ],
      "source": [
        "df_filtered_zero_copy_1.BNB_Close.plot(figsize = (16,7))"
      ]
    },
    {
      "cell_type": "markdown",
      "metadata": {
        "id": "BnBMnZJvv_8E"
      },
      "source": [
        "# 3. Modeling"
      ]
    },
    {
      "cell_type": "markdown",
      "metadata": {
        "id": "q-KL3jqZwLc7"
      },
      "source": [
        "## 3.1 LSTM"
      ]
    },
    {
      "cell_type": "markdown",
      "source": [
        "### Normalize the data"
      ],
      "metadata": {
        "id": "64YB5LsoDrWu"
      }
    },
    {
      "cell_type": "code",
      "execution_count": 9,
      "metadata": {
        "colab": {
          "base_uri": "https://localhost:8080/",
          "height": 77
        },
        "id": "EHL6OsVtwHSB",
        "outputId": "5a2b84e6-44f0-4d25-b906-efaca50f5425"
      },
      "outputs": [
        {
          "output_type": "execute_result",
          "data": {
            "text/plain": [
              "MinMaxScaler()"
            ],
            "text/html": [
              "<style>#sk-container-id-1 {color: black;background-color: white;}#sk-container-id-1 pre{padding: 0;}#sk-container-id-1 div.sk-toggleable {background-color: white;}#sk-container-id-1 label.sk-toggleable__label {cursor: pointer;display: block;width: 100%;margin-bottom: 0;padding: 0.3em;box-sizing: border-box;text-align: center;}#sk-container-id-1 label.sk-toggleable__label-arrow:before {content: \"▸\";float: left;margin-right: 0.25em;color: #696969;}#sk-container-id-1 label.sk-toggleable__label-arrow:hover:before {color: black;}#sk-container-id-1 div.sk-estimator:hover label.sk-toggleable__label-arrow:before {color: black;}#sk-container-id-1 div.sk-toggleable__content {max-height: 0;max-width: 0;overflow: hidden;text-align: left;background-color: #f0f8ff;}#sk-container-id-1 div.sk-toggleable__content pre {margin: 0.2em;color: black;border-radius: 0.25em;background-color: #f0f8ff;}#sk-container-id-1 input.sk-toggleable__control:checked~div.sk-toggleable__content {max-height: 200px;max-width: 100%;overflow: auto;}#sk-container-id-1 input.sk-toggleable__control:checked~label.sk-toggleable__label-arrow:before {content: \"▾\";}#sk-container-id-1 div.sk-estimator input.sk-toggleable__control:checked~label.sk-toggleable__label {background-color: #d4ebff;}#sk-container-id-1 div.sk-label input.sk-toggleable__control:checked~label.sk-toggleable__label {background-color: #d4ebff;}#sk-container-id-1 input.sk-hidden--visually {border: 0;clip: rect(1px 1px 1px 1px);clip: rect(1px, 1px, 1px, 1px);height: 1px;margin: -1px;overflow: hidden;padding: 0;position: absolute;width: 1px;}#sk-container-id-1 div.sk-estimator {font-family: monospace;background-color: #f0f8ff;border: 1px dotted black;border-radius: 0.25em;box-sizing: border-box;margin-bottom: 0.5em;}#sk-container-id-1 div.sk-estimator:hover {background-color: #d4ebff;}#sk-container-id-1 div.sk-parallel-item::after {content: \"\";width: 100%;border-bottom: 1px solid gray;flex-grow: 1;}#sk-container-id-1 div.sk-label:hover label.sk-toggleable__label {background-color: #d4ebff;}#sk-container-id-1 div.sk-serial::before {content: \"\";position: absolute;border-left: 1px solid gray;box-sizing: border-box;top: 0;bottom: 0;left: 50%;z-index: 0;}#sk-container-id-1 div.sk-serial {display: flex;flex-direction: column;align-items: center;background-color: white;padding-right: 0.2em;padding-left: 0.2em;position: relative;}#sk-container-id-1 div.sk-item {position: relative;z-index: 1;}#sk-container-id-1 div.sk-parallel {display: flex;align-items: stretch;justify-content: center;background-color: white;position: relative;}#sk-container-id-1 div.sk-item::before, #sk-container-id-1 div.sk-parallel-item::before {content: \"\";position: absolute;border-left: 1px solid gray;box-sizing: border-box;top: 0;bottom: 0;left: 50%;z-index: -1;}#sk-container-id-1 div.sk-parallel-item {display: flex;flex-direction: column;z-index: 1;position: relative;background-color: white;}#sk-container-id-1 div.sk-parallel-item:first-child::after {align-self: flex-end;width: 50%;}#sk-container-id-1 div.sk-parallel-item:last-child::after {align-self: flex-start;width: 50%;}#sk-container-id-1 div.sk-parallel-item:only-child::after {width: 0;}#sk-container-id-1 div.sk-dashed-wrapped {border: 1px dashed gray;margin: 0 0.4em 0.5em 0.4em;box-sizing: border-box;padding-bottom: 0.4em;background-color: white;}#sk-container-id-1 div.sk-label label {font-family: monospace;font-weight: bold;display: inline-block;line-height: 1.2em;}#sk-container-id-1 div.sk-label-container {text-align: center;}#sk-container-id-1 div.sk-container {/* jupyter's `normalize.less` sets `[hidden] { display: none; }` but bootstrap.min.css set `[hidden] { display: none !important; }` so we also need the `!important` here to be able to override the default hidden behavior on the sphinx rendered scikit-learn.org. See: https://github.com/scikit-learn/scikit-learn/issues/21755 */display: inline-block !important;position: relative;}#sk-container-id-1 div.sk-text-repr-fallback {display: none;}</style><div id=\"sk-container-id-1\" class=\"sk-top-container\"><div class=\"sk-text-repr-fallback\"><pre>MinMaxScaler()</pre><b>In a Jupyter environment, please rerun this cell to show the HTML representation or trust the notebook. <br />On GitHub, the HTML representation is unable to render, please try loading this page with nbviewer.org.</b></div><div class=\"sk-container\" hidden><div class=\"sk-item\"><div class=\"sk-estimator sk-toggleable\"><input class=\"sk-toggleable__control sk-hidden--visually\" id=\"sk-estimator-id-1\" type=\"checkbox\" checked><label for=\"sk-estimator-id-1\" class=\"sk-toggleable__label sk-toggleable__label-arrow\">MinMaxScaler</label><div class=\"sk-toggleable__content\"><pre>MinMaxScaler()</pre></div></div></div></div></div>"
            ]
          },
          "metadata": {},
          "execution_count": 9
        }
      ],
      "source": [
        "# normalization for further lstm traing\n",
        "\n",
        "features = df_filtered_zero_copy_1.iloc[:, 1:]\n",
        "features.columns\n",
        "scaler = MinMaxScaler(feature_range=(0, 1))\n",
        "scaled_features = scaler.fit_transform(features)\n",
        "\n",
        "# only for close price\n",
        "# scaler_bitclose is a MinMaxScaler only for close price\n",
        "close_prices = df_filtered_zero_copy_1['Bitcoin_Close'].values.reshape(-1, 1)\n",
        "scaler_bitclose = MinMaxScaler(feature_range=(0, 1))\n",
        "scaler_bitclose.fit(close_prices)"
      ]
    },
    {
      "cell_type": "code",
      "execution_count": 10,
      "metadata": {
        "colab": {
          "base_uri": "https://localhost:8080/",
          "height": 278
        },
        "id": "GKno937_yOQj",
        "outputId": "9374bdaa-e85b-4f70-b367-5946008cc50c"
      },
      "outputs": [
        {
          "output_type": "stream",
          "name": "stdout",
          "text": [
            "Index(['CPI_CPI', 'XRP_Open', 'XRP_High', 'XRP_Low', 'XRP_Close',\n",
            "       'XRP_Adj Close', 'XRP_Volume', 'DJIA_DJIA', 'STICKY_STICKY',\n",
            "       'Ethereum_Open', 'Ethereum_High', 'Ethereum_Low', 'Ethereum_Close',\n",
            "       'Ethereum_Adj Close', 'Ethereum_Volume', 'Litecoin_Open',\n",
            "       'Litecoin_High', 'Litecoin_Low', 'Litecoin_Close', 'Litecoin_Adj Close',\n",
            "       'Litecoin_Volume', 'Bitcoin_Open', 'Bitcoin_High', 'Bitcoin_Low',\n",
            "       'Bitcoin_Close', 'Bitcoin_Adj Close', 'Bitcoin_Volume', 'Cardano_Open',\n",
            "       'Cardano_High', 'Cardano_Low', 'Cardano_Close', 'Cardano_Adj Close',\n",
            "       'Cardano_Volume', '10Y_Inflation_10Y_Inflation', 'VIX_OPEN', 'VIX_HIGH',\n",
            "       'VIX_LOW', 'VIX_CLOSE', 'real_interest_rate_10Y_real_interest_rate_10Y',\n",
            "       'SP500_SP500', 'BNB_Open', 'BNB_High', 'BNB_Low', 'BNB_Close',\n",
            "       'BNB_Adj Close', 'BNB_Volume'],\n",
            "      dtype='object')\n"
          ]
        },
        {
          "output_type": "execute_result",
          "data": {
            "text/plain": [
              "'Bitcoin_Close'"
            ],
            "application/vnd.google.colaboratory.intrinsic+json": {
              "type": "string"
            }
          },
          "metadata": {},
          "execution_count": 10
        }
      ],
      "source": [
        "print(features.columns)\n",
        "features.columns[24]"
      ]
    },
    {
      "cell_type": "code",
      "execution_count": 11,
      "metadata": {
        "id": "pui1uEjpy949"
      },
      "outputs": [],
      "source": [
        "# [tradining data index 0---59] [close: 60]"
      ]
    },
    {
      "cell_type": "markdown",
      "source": [
        "### Defining the time windows size"
      ],
      "metadata": {
        "id": "4R_j3MnjDlvm"
      }
    },
    {
      "cell_type": "code",
      "execution_count": 11,
      "metadata": {
        "id": "n9lAcX8swHPl"
      },
      "outputs": [],
      "source": [
        "# defining a time window of 60\n",
        "time_period = 60\n",
        "\n",
        "def create_dataset(dataset, time_step=time_period):\n",
        "    dataX, dataY = [], []\n",
        "    for i in range(len(dataset) - time_step - 1):\n",
        "        a = dataset[i:(i + time_step), :]\n",
        "        # dataX is all the trading data\n",
        "        dataX.append(a)\n",
        "        # close is out pridict traget\n",
        "        dataY.append(dataset[i + time_step, 24])\n",
        "    return np.array(dataX), np.array(dataY)\n",
        "\n",
        "X, y = create_dataset(scaled_features, time_step=60)\n"
      ]
    },
    {
      "cell_type": "markdown",
      "source": [
        "### Get the traning data set and test data set"
      ],
      "metadata": {
        "id": "srtQAtP5Dvyu"
      }
    },
    {
      "cell_type": "code",
      "execution_count": 12,
      "metadata": {
        "id": "OrlwYRStx4qe"
      },
      "outputs": [],
      "source": [
        "# train set / test set\n",
        "# 80 / 20\n",
        "train_size = int(len(X) * 0.8)\n",
        "X_train, X_test = X[0:train_size], X[train_size:]\n",
        "y_train, y_test = y[0:train_size], y[train_size:]\n"
      ]
    },
    {
      "cell_type": "code",
      "source": [
        "time_axis = pd.to_datetime(df_filtered_zero_copy_1[train_size+60:].Date)\n",
        "time_axis"
      ],
      "metadata": {
        "id": "wCszfrcs7wD6",
        "colab": {
          "base_uri": "https://localhost:8080/"
        },
        "outputId": "78b21447-04e4-444c-8596-401d57066c1d"
      },
      "execution_count": 13,
      "outputs": [
        {
          "output_type": "execute_result",
          "data": {
            "text/plain": [
              "2743   2022-03-23\n",
              "2744   2022-03-24\n",
              "2745   2022-03-25\n",
              "2746   2022-03-26\n",
              "2747   2022-03-27\n",
              "          ...    \n",
              "3123   2023-04-07\n",
              "3124   2023-04-08\n",
              "3125   2023-04-09\n",
              "3126   2023-04-10\n",
              "3127   2023-04-11\n",
              "Name: Date, Length: 385, dtype: datetime64[ns]"
            ]
          },
          "metadata": {},
          "execution_count": 13
        }
      ]
    },
    {
      "cell_type": "code",
      "execution_count": 14,
      "metadata": {
        "colab": {
          "base_uri": "https://localhost:8080/"
        },
        "id": "woRNLrJCAOgq",
        "outputId": "d314ca90-4dc8-404c-d89a-2ed63035a602"
      },
      "outputs": [
        {
          "output_type": "stream",
          "name": "stdout",
          "text": [
            "(1534, 60, 46)\n",
            "(1534,)\n"
          ]
        }
      ],
      "source": [
        "print(X_train.shape)\n",
        "print(y_train.shape)"
      ]
    },
    {
      "cell_type": "markdown",
      "metadata": {
        "id": "3tk4mfd91PKT"
      },
      "source": [
        "## LSTM Modeling Versions"
      ]
    },
    {
      "cell_type": "code",
      "source": [
        "# using GPU accelrate\n",
        "import tensorflow as tf\n",
        "\n",
        "# check the GPU aviablity\n",
        "if tf.test.is_gpu_available():\n",
        "    print(\"Using GPU\")\n",
        "else:\n",
        "    print(\"Using CPU\")\n",
        "\n",
        "# forced the TensorFlow use GPU\n",
        "gpus = tf.config.experimental.list_physical_devices('GPU')\n",
        "if gpus:\n",
        "    try:\n",
        "        # use first GPU\n",
        "        tf.config.experimental.set_visible_devices(gpus[0], 'GPU')\n",
        "\n",
        "        # setting the usage of memory\n",
        "        tf.config.experimental.set_memory_growth(gpus[0], True)\n",
        "    except RuntimeError as e:\n",
        "        # errot printing\n",
        "        print(e)\n",
        "\n",
        "#"
      ],
      "metadata": {
        "colab": {
          "base_uri": "https://localhost:8080/"
        },
        "id": "DHsqfmGnmtur",
        "outputId": "50ffde3d-500e-4858-9d48-3e932e0bdccb"
      },
      "execution_count": 15,
      "outputs": [
        {
          "output_type": "stream",
          "name": "stderr",
          "text": [
            "WARNING:tensorflow:From <ipython-input-15-1e4475d58ac3>:5: is_gpu_available (from tensorflow.python.framework.test_util) is deprecated and will be removed in a future version.\n",
            "Instructions for updating:\n",
            "Use `tf.config.list_physical_devices('GPU')` instead.\n"
          ]
        },
        {
          "output_type": "stream",
          "name": "stdout",
          "text": [
            "Using GPU\n"
          ]
        }
      ]
    },
    {
      "cell_type": "markdown",
      "source": [
        "### some tried models"
      ],
      "metadata": {
        "id": "DG2M_ckNT0cY"
      }
    },
    {
      "cell_type": "code",
      "execution_count": 20,
      "metadata": {
        "id": "g2RlvFd4x4nr"
      },
      "outputs": [],
      "source": [
        "# Model lstm 1.1\n",
        "model = Sequential()\n",
        "model.add(LSTM(50, return_sequences=True, input_shape=(time_period, 46)))\n",
        "model.add(LSTM(50, return_sequences=False))\n",
        "model.add(Dense(25))\n",
        "model.add(Dense(1))\n",
        "model.compile(optimizer='adam', loss='mean_squared_error')\n",
        "\n"
      ]
    },
    {
      "cell_type": "code",
      "execution_count": null,
      "metadata": {
        "id": "rl66mEML-PC3"
      },
      "outputs": [],
      "source": [
        "# 12.5\n",
        "model = Sequential()\n",
        "model.add(LSTM(32, return_sequences=True, input_shape=(input_shape,1), activation='relu'))\n",
        "model.add(LSTM(32,return_sequences=True, activation='relu'))\n",
        "model.add(Reshape((1, 240, 32)))\n",
        "model.add(Conv1D(filters=64,kernel_size=2, activation='relu', strides=2))\n",
        "model.add(Reshape((120, 64)))\n",
        "model.add(MaxPool1D(pool_size=4, padding='same'))\n",
        "model.add(Conv1D(filters=192, kernel_size=2, activation='relu', strides=1))\n",
        "model.add(Reshape((29, 192)))\n",
        "model.add(GlobalAveragePooling1D())\n",
        "model.add(BatchNormalization(epsilon=1e-06))\n",
        "model.add(Dense(6))\n",
        "model.add(Activation('softmax'))\n",
        "\n",
        "print(model.summary())"
      ]
    },
    {
      "cell_type": "code",
      "execution_count": null,
      "metadata": {
        "id": "gS5yojsJ1Vby"
      },
      "outputs": [],
      "source": [
        "# Model lstm 1.2\n",
        "model = Sequential()\n",
        "model.add(LSTM(100, return_sequences=True, input_shape=(time_period, 46)))\n",
        "model.add(LSTM(100, return_sequences=False))\n",
        "model.add(Dense(100))\n",
        "model.add(Dense(25))\n",
        "model.add(Dense(1))\n",
        "model.compile(optimizer='adam', loss='mean_squared_error')\n"
      ]
    },
    {
      "cell_type": "code",
      "source": [
        "# Experiments using CNN + LSTM\n",
        "from keras.models import Sequential\n",
        "from keras.layers import Conv1D, MaxPooling1D, GlobalMaxPooling1D, LSTM, Dense, Reshape\n",
        "from keras.models import Sequential\n",
        "from keras.layers import LSTM, Dense, Dropout\n",
        "from keras.regularizers import l1, l2\n",
        "from keras.callbacks import EarlyStopping, ModelCheckpoint\n",
        "# analysis\n",
        "from sklearn.metrics import mean_squared_error\n",
        "import math\n",
        "\n",
        "\n",
        "time_period = 60\n",
        "\n",
        "model = Sequential()\n",
        "# using CNN\n",
        "model.add(Conv1D(filters=64, kernel_size=3, activation='relu', input_shape=(time_period, 46)))\n",
        "model.add(MaxPooling1D(pool_size=2))\n",
        "\n",
        "# use GlobalMaxPooling1D\n",
        "model.add(GlobalMaxPooling1D())\n",
        "\n",
        "# add additional layer\n",
        "model.add(Reshape((1, -1)))\n",
        "\n",
        "# lstm layers\n",
        "model.add(LSTM(100, return_sequences=True))\n",
        "model.add(LSTM(100))\n",
        "\n",
        "# dense layer\n",
        "model.add(Dense(100))\n",
        "model.add(Dense(50))\n",
        "model.add(Dense(10))\n",
        "model.add(Dense(1))\n",
        "\n",
        "model.compile(optimizer='adam', loss='mean_squared_error')\n"
      ],
      "metadata": {
        "id": "wboUT5FIEP5C"
      },
      "execution_count": null,
      "outputs": []
    },
    {
      "cell_type": "markdown",
      "source": [
        "# Final model\n",
        "\n",
        "**This is our final LSTM model.**\n",
        "\n",
        "2 LSTM layers each with 300 neurons followed by 2 dens layers"
      ],
      "metadata": {
        "id": "OV2VjrcPEb5O"
      }
    },
    {
      "cell_type": "code",
      "execution_count": 21,
      "metadata": {
        "id": "f3XDx7-SDHbY",
        "colab": {
          "base_uri": "https://localhost:8080/",
          "height": 1000
        },
        "outputId": "9c56ec76-962b-4905-d266-2f42e0ef993d"
      },
      "outputs": [
        {
          "output_type": "stream",
          "name": "stdout",
          "text": [
            "Epoch 1/35\n",
            "48/48 [==============================] - 11s 15ms/step - loss: 0.0355\n",
            "Epoch 2/35\n",
            "48/48 [==============================] - 1s 13ms/step - loss: 0.0016\n",
            "Epoch 3/35\n",
            "48/48 [==============================] - 1s 13ms/step - loss: 0.0010\n",
            "Epoch 4/35\n",
            "48/48 [==============================] - 1s 13ms/step - loss: 8.8162e-04\n",
            "Epoch 5/35\n",
            "48/48 [==============================] - 1s 12ms/step - loss: 8.7992e-04\n",
            "Epoch 6/35\n",
            "48/48 [==============================] - 1s 12ms/step - loss: 7.5843e-04\n",
            "Epoch 7/35\n",
            "48/48 [==============================] - 1s 12ms/step - loss: 7.9607e-04\n",
            "Epoch 8/35\n",
            "48/48 [==============================] - 1s 13ms/step - loss: 9.1539e-04\n",
            "Epoch 9/35\n",
            "48/48 [==============================] - 1s 12ms/step - loss: 6.9394e-04\n",
            "Epoch 10/35\n",
            "48/48 [==============================] - 1s 12ms/step - loss: 6.3257e-04\n",
            "Epoch 11/35\n",
            "48/48 [==============================] - 1s 14ms/step - loss: 5.8303e-04\n",
            "Epoch 12/35\n",
            "48/48 [==============================] - 1s 12ms/step - loss: 6.1473e-04\n",
            "Epoch 13/35\n",
            "48/48 [==============================] - 1s 12ms/step - loss: 8.4579e-04\n",
            "Epoch 14/35\n",
            "48/48 [==============================] - 1s 12ms/step - loss: 6.2966e-04\n",
            "Epoch 15/35\n",
            "48/48 [==============================] - 1s 12ms/step - loss: 5.8959e-04\n",
            "Epoch 16/35\n",
            "48/48 [==============================] - 1s 12ms/step - loss: 7.5644e-04\n",
            "Epoch 17/35\n",
            "48/48 [==============================] - 1s 13ms/step - loss: 6.3881e-04\n",
            "Epoch 18/35\n",
            "48/48 [==============================] - 1s 12ms/step - loss: 6.6357e-04\n",
            "Epoch 19/35\n",
            "48/48 [==============================] - 1s 12ms/step - loss: 6.0982e-04\n",
            "Epoch 20/35\n",
            "48/48 [==============================] - 1s 12ms/step - loss: 6.4173e-04\n",
            "Epoch 21/35\n",
            "48/48 [==============================] - 1s 12ms/step - loss: 5.1710e-04\n",
            "Epoch 22/35\n",
            "48/48 [==============================] - 1s 12ms/step - loss: 4.5645e-04\n",
            "Epoch 23/35\n",
            "48/48 [==============================] - 1s 12ms/step - loss: 4.9664e-04\n",
            "Epoch 24/35\n",
            "48/48 [==============================] - 1s 12ms/step - loss: 4.2842e-04\n",
            "Epoch 25/35\n",
            "48/48 [==============================] - 1s 12ms/step - loss: 5.2060e-04\n",
            "Epoch 26/35\n",
            "48/48 [==============================] - 1s 12ms/step - loss: 4.5344e-04\n",
            "Epoch 27/35\n",
            "48/48 [==============================] - 1s 12ms/step - loss: 5.1710e-04\n",
            "Epoch 28/35\n",
            "48/48 [==============================] - 1s 12ms/step - loss: 4.5627e-04\n",
            "Epoch 29/35\n",
            "48/48 [==============================] - 1s 13ms/step - loss: 4.8852e-04\n",
            "Epoch 30/35\n",
            "48/48 [==============================] - 1s 13ms/step - loss: 4.1636e-04\n",
            "Epoch 31/35\n",
            "48/48 [==============================] - 1s 14ms/step - loss: 5.1095e-04\n",
            "Epoch 32/35\n",
            "48/48 [==============================] - 1s 13ms/step - loss: 4.3613e-04\n",
            "Epoch 33/35\n",
            "48/48 [==============================] - 1s 13ms/step - loss: 4.3258e-04\n",
            "Epoch 34/35\n",
            "48/48 [==============================] - 1s 13ms/step - loss: 4.3602e-04\n",
            "Epoch 35/35\n",
            "48/48 [==============================] - 1s 13ms/step - loss: 4.5772e-04\n",
            "12/12 [==============================] - 1s 8ms/step\n",
            "RMSE: 1122.326395789203\n"
          ]
        },
        {
          "output_type": "display_data",
          "data": {
            "text/plain": [
              "<Figure size 1200x800 with 1 Axes>"
            ],
            "image/png": "[encoded data removed]"
          },
          "metadata": {}
        }
      ],
      "source": [
        "\"\"\"\n",
        "Thi is our final model\n",
        "\"\"\"\n",
        "### Final model\n",
        "## Model lstm 1.3 final one\n",
        "\n",
        "\n",
        "model = Sequential()\n",
        "model.add(LSTM(300, return_sequences=True, input_shape=(time_period, 46)))\n",
        "model.add(Dropout(0.01))\n",
        "model.add(LSTM(300, return_sequences=False))\n",
        "model.add(Dropout(0.01))\n",
        "#model.add(Dense(100, kernel_regularizer=l2(0.001)))\n",
        "model.add(Dense(25))\n",
        "#model.add(Dropout(0.05))\n",
        "model.add(Dense(1))\n",
        "\n",
        "model.compile(optimizer='adam', loss='mean_squared_error')\n",
        "\n",
        "#early_stopping = EarlyStopping(monitor='val_loss', patience=10)\n",
        "#model_checkpoint = ModelCheckpoint('best_model.h5', save_best_only=True)\n",
        "model.fit(X_train, y_train, batch_size=32, epochs=35, verbose=1)\n",
        "#model.fit(X_train, y_train, epochs=30, batch_size=64, callbacks=[early_stopping, model_checkpoint])\n",
        "\n",
        "# predict\n",
        "predicted_prices = model.predict(X_test)\n",
        "#predicted_prices = predicted_prices.reshape(-1, 1)\n",
        "predicted_prices = scaler_bitclose.inverse_transform(predicted_prices)\n",
        "# analysis\n",
        "from sklearn.metrics import mean_squared_error\n",
        "import math\n",
        "\n",
        "# RMSE\n",
        "real_prices = scaler_bitclose.inverse_transform(y_test.reshape(-1, 1))\n",
        "rmse = math.sqrt(mean_squared_error(real_prices, predicted_prices))\n",
        "print(f'RMSE: {rmse}')\n",
        "# plot\n",
        "import matplotlib.pyplot as plt\n",
        "#time_axis = df_filtered_zero_copy_1[Date_lis[train_size]:-time_period-1].Date\n",
        "#time_axis = pd.to_datetime(df_filtered_zero_copy_1[Date_lis[train_size]:-time_period-1].Date)\n",
        "time_axis = pd.to_datetime(df_filtered_zero_copy_1[train_size+60+1:].Date)\n",
        "time_axis\n",
        "\n",
        "# plot the real price vs predicted price\n",
        "plt.figure(figsize=(12, 8))\n",
        "plt.plot(time_axis, real_prices, label='Actural Price')\n",
        "plt.plot(time_axis, predicted_prices, label='Predicted Price', alpha=0.7)\n",
        "plt.title('bitcoin lstm prediction')\n",
        "plt.xlabel('Date')\n",
        "plt.ylabel('Price (USD)')\n",
        "plt.legend()\n",
        "plt.show()\n"
      ]
    },
    {
      "cell_type": "markdown",
      "source": [],
      "metadata": {
        "id": "R9lv4RPGEPL7"
      }
    },
    {
      "cell_type": "code",
      "source": [
        "model.history"
      ],
      "metadata": {
        "colab": {
          "base_uri": "https://localhost:8080/"
        },
        "id": "pHQ2m-DpESdu",
        "outputId": "e53ce33e-d050-415a-ad84-03a42c898928"
      },
      "execution_count": 22,
      "outputs": [
        {
          "output_type": "execute_result",
          "data": {
            "text/plain": [
              "<keras.src.callbacks.History at 0x79fcc8169a20>"
            ]
          },
          "metadata": {},
          "execution_count": 22
        }
      ]
    },
    {
      "cell_type": "markdown",
      "source": [
        "# Find the average rmse"
      ],
      "metadata": {
        "id": "idl831k5CFeh"
      }
    },
    {
      "cell_type": "code",
      "source": [
        "# get the average LSTM RMSE\n",
        "# analysis\n",
        "from sklearn.metrics import mean_squared_error\n",
        "import math\n",
        "best_rmse = []\n",
        "for i in range(10):\n",
        "  model = Sequential()\n",
        "  model.add(LSTM(300, return_sequences=True, input_shape=(time_period, 46)))\n",
        "  model.add(Dropout(0.01))\n",
        "  model.add(LSTM(300, return_sequences=False))\n",
        "  model.add(Dropout(0.01))\n",
        "  #model.add(Dense(100, kernel_regularizer=l2(0.001)))\n",
        "  model.add(Dense(25))\n",
        "  #model.add(Dropout(0.05))\n",
        "  model.add(Dense(1))\n",
        "\n",
        "  model.compile(optimizer='adam', loss='mean_squared_error')\n",
        "\n",
        "  #early_stopping = EarlyStopping(monitor='val_loss', patience=10)\n",
        "  #model_checkpoint = ModelCheckpoint('best_model.h5', save_best_only=True)\n",
        "  model.fit(X_train, y_train, batch_size=32, epochs=35, verbose=0)\n",
        "  #model.fit(X_train, y_train, epochs=30, batch_size=64, callbacks=[early_stopping, model_checkpoint])\n",
        "\n",
        "\n",
        "  # predict\n",
        "  predicted_prices = model.predict(X_test)\n",
        "  #predicted_prices = predicted_prices.reshape(-1, 1)\n",
        "  predicted_prices = scaler_bitclose.inverse_transform(predicted_prices)\n",
        "\n",
        "# RMSE\n",
        "  real_prices = scaler_bitclose.inverse_transform(y_test.reshape(-1, 1))\n",
        "  rmse = math.sqrt(mean_squared_error(real_prices, predicted_prices))\n",
        "  print(f'RMSE: {rmse}')\n",
        "\n",
        "  best_rmse.append(rmse)"
      ],
      "metadata": {
        "colab": {
          "base_uri": "https://localhost:8080/"
        },
        "id": "ooq8lIxgCFQI",
        "outputId": "aae1fb5e-d8d5-490c-b3e5-a1675f96956c"
      },
      "execution_count": 22,
      "outputs": [
        {
          "output_type": "stream",
          "name": "stdout",
          "text": [
            "12/12 [==============================] - 1s 8ms/step\n",
            "RMSE: 1378.387394853774\n",
            "12/12 [==============================] - 1s 6ms/step\n",
            "RMSE: 1364.0103637112834\n",
            "12/12 [==============================] - 1s 6ms/step\n",
            "RMSE: 1036.6098213626792\n",
            "12/12 [==============================] - 1s 5ms/step\n",
            "RMSE: 1067.9327791948317\n",
            "12/12 [==============================] - 1s 6ms/step\n",
            "RMSE: 1144.880972512136\n",
            "12/12 [==============================] - 1s 5ms/step\n",
            "RMSE: 1081.3013548591607\n",
            "12/12 [==============================] - 1s 5ms/step\n",
            "RMSE: 1578.4931408417854\n",
            "12/12 [==============================] - 1s 5ms/step\n",
            "RMSE: 1240.134497687566\n",
            "12/12 [==============================] - 1s 8ms/step\n",
            "RMSE: 1264.5260227849822\n",
            "12/12 [==============================] - 1s 5ms/step\n",
            "RMSE: 1226.9033028454712\n"
          ]
        }
      ]
    },
    {
      "cell_type": "code",
      "source": [
        "average_lstm_best_rmse = sum(best_rmse)/len(best_rmse)\n",
        "average_lstm_best_rmse"
      ],
      "metadata": {
        "colab": {
          "base_uri": "https://localhost:8080/"
        },
        "id": "wfq0cCBYCjas",
        "outputId": "d12da028-f42a-473b-bfb4-e58a8959a50d"
      },
      "execution_count": null,
      "outputs": [
        {
          "output_type": "execute_result",
          "data": {
            "text/plain": [
              "1459.6613428443577"
            ]
          },
          "metadata": {},
          "execution_count": 113
        }
      ]
    },
    {
      "cell_type": "markdown",
      "source": [
        "# Summary of our final model"
      ],
      "metadata": {
        "id": "qg4fpDesEqUt"
      }
    },
    {
      "cell_type": "code",
      "source": [
        "# summary of our finalemodel\n",
        "model.summary()"
      ],
      "metadata": {
        "colab": {
          "base_uri": "https://localhost:8080/"
        },
        "id": "vMQoKn2RANKb",
        "outputId": "e1bb2754-e6f8-42f9-8a1c-72b1091e7bdb"
      },
      "execution_count": 20,
      "outputs": [
        {
          "output_type": "stream",
          "name": "stdout",
          "text": [
            "Model: \"sequential\"\n",
            "_________________________________________________________________\n",
            " Layer (type)                Output Shape              Param #   \n",
            "=================================================================\n",
            " lstm (LSTM)                 (None, 60, 300)           416400    \n",
            "                                                                 \n",
            " dropout (Dropout)           (None, 60, 300)           0         \n",
            "                                                                 \n",
            " lstm_1 (LSTM)               (None, 300)               721200    \n",
            "                                                                 \n",
            " dropout_1 (Dropout)         (None, 300)               0         \n",
            "                                                                 \n",
            " dense (Dense)               (None, 25)                7525      \n",
            "                                                                 \n",
            " dense_1 (Dense)             (None, 1)                 26        \n",
            "                                                                 \n",
            "=================================================================\n",
            "Total params: 1145151 (4.37 MB)\n",
            "Trainable params: 1145151 (4.37 MB)\n",
            "Non-trainable params: 0 (0.00 Byte)\n",
            "_________________________________________________________________\n"
          ]
        }
      ]
    },
    {
      "cell_type": "code",
      "source": [
        "from sklearn.metrics import r2_score\n",
        "\n",
        "real_prices = scaler_bitclose.inverse_transform(y_test.reshape(-1, 1))\n",
        "rmse = math.sqrt(mean_squared_error(real_prices, predicted_prices))\n",
        "print(f'RMSE: {rmse}')\n",
        "r_squared = r2_score(real_prices, predicted_prices)\n",
        "print(\"R² value:\", r_squared)"
      ],
      "metadata": {
        "colab": {
          "base_uri": "https://localhost:8080/"
        },
        "id": "klf7zneRBXxr",
        "outputId": "2907ebd0-2d0a-49e2-96b8-c8c3ad0f8d19"
      },
      "execution_count": 23,
      "outputs": [
        {
          "output_type": "stream",
          "name": "stdout",
          "text": [
            "RMSE: 1122.326395789203\n",
            "R² value: 0.9778557761356176\n"
          ]
        }
      ]
    },
    {
      "cell_type": "code",
      "source": [
        "time_axis.shape"
      ],
      "metadata": {
        "colab": {
          "base_uri": "https://localhost:8080/"
        },
        "id": "gQRtvBXK9Lzp",
        "outputId": "9a36d978-22b6-4900-beb8-6888c6ac75fd"
      },
      "execution_count": 23,
      "outputs": [
        {
          "output_type": "execute_result",
          "data": {
            "text/plain": [
              "(384,)"
            ]
          },
          "metadata": {},
          "execution_count": 23
        }
      ]
    },
    {
      "cell_type": "code",
      "source": [
        "# ploting with date\n",
        "time_axis = pd.to_datetime(df_filtered_zero_copy_1[train_size+60+1:].Date)\n",
        "\n",
        "df_result_lstm = pd.DataFrame([[x[0] for x in real_prices],[x[0] for x in predicted_prices]]).T\n",
        "df_result_lstm[\"date\"] = time_axis.reset_index(drop=True)\n",
        "df_result_lstm = df_result_lstm.set_index(\"date\")\n",
        "df_result_lstm.columns = [\"real_prices\", \"predicted_prices\"]\n",
        "df_result_lstm.plot(figsize = (16,8))\n",
        "df_result_lstm\n",
        "#df_result_lstm[[0, 1]].plot()"
      ],
      "metadata": {
        "colab": {
          "base_uri": "https://localhost:8080/",
          "height": 1000
        },
        "id": "PUE_LA3T898p",
        "outputId": "a7d78581-af99-48d2-b8c5-39199125fbd9"
      },
      "execution_count": 24,
      "outputs": [
        {
          "output_type": "execute_result",
          "data": {
            "text/plain": [
              "             real_prices  predicted_prices\n",
              "date                                      \n",
              "2022-03-24  42892.957031      41483.859375\n",
              "2022-03-25  43960.933594      42120.796875\n",
              "2022-03-26  44348.730469      42785.871094\n",
              "2022-03-27  44500.828125      43045.753906\n",
              "2022-03-28  46820.492188      43279.828125\n",
              "...                  ...               ...\n",
              "2023-04-07  28044.140625      26701.664062\n",
              "2023-04-08  27925.859375      26599.978516\n",
              "2023-04-09  27947.794922      26465.207031\n",
              "2023-04-10  28333.050781      26405.814453\n",
              "2023-04-11  29652.980469      26489.789062\n",
              "\n",
              "[384 rows x 2 columns]"
            ],
            "text/html": [
              "\n",
              "  <div id=\"df-854417a5-559b-44d6-a9f9-559c21442709\" class=\"colab-df-container\">\n",
              "    <div>\n",
              "<style scoped>\n",
              "    .dataframe tbody tr th:only-of-type {\n",
              "        vertical-align: middle;\n",
              "    }\n",
              "\n",
              "    .dataframe tbody tr th {\n",
              "        vertical-align: top;\n",
              "    }\n",
              "\n",
              "    .dataframe thead th {\n",
              "        text-align: right;\n",
              "    }\n",
              "</style>\n",
              "<table border=\"1\" class=\"dataframe\">\n",
              "  <thead>\n",
              "    <tr style=\"text-align: right;\">\n",
              "      <th></th>\n",
              "      <th>real_prices</th>\n",
              "      <th>predicted_prices</th>\n",
              "    </tr>\n",
              "    <tr>\n",
              "      <th>date</th>\n",
              "      <th></th>\n",
              "      <th></th>\n",
              "    </tr>\n",
              "  </thead>\n",
              "  <tbody>\n",
              "    <tr>\n",
              "      <th>2022-03-24</th>\n",
              "      <td>42892.957031</td>\n",
              "      <td>41483.859375</td>\n",
              "    </tr>\n",
              "    <tr>\n",
              "      <th>2022-03-25</th>\n",
              "      <td>43960.933594</td>\n",
              "      <td>42120.796875</td>\n",
              "    </tr>\n",
              "    <tr>\n",
              "      <th>2022-03-26</th>\n",
              "      <td>44348.730469</td>\n",
              "      <td>42785.871094</td>\n",
              "    </tr>\n",
              "    <tr>\n",
              "      <th>2022-03-27</th>\n",
              "      <td>44500.828125</td>\n",
              "      <td>43045.753906</td>\n",
              "    </tr>\n",
              "    <tr>\n",
              "      <th>2022-03-28</th>\n",
              "      <td>46820.492188</td>\n",
              "      <td>43279.828125</td>\n",
              "    </tr>\n",
              "    <tr>\n",
              "      <th>...</th>\n",
              "      <td>...</td>\n",
              "      <td>...</td>\n",
              "    </tr>\n",
              "    <tr>\n",
              "      <th>2023-04-07</th>\n",
              "      <td>28044.140625</td>\n",
              "      <td>26701.664062</td>\n",
              "    </tr>\n",
              "    <tr>\n",
              "      <th>2023-04-08</th>\n",
              "      <td>27925.859375</td>\n",
              "      <td>26599.978516</td>\n",
              "    </tr>\n",
              "    <tr>\n",
              "      <th>2023-04-09</th>\n",
              "      <td>27947.794922</td>\n",
              "      <td>26465.207031</td>\n",
              "    </tr>\n",
              "    <tr>\n",
              "      <th>2023-04-10</th>\n",
              "      <td>28333.050781</td>\n",
              "      <td>26405.814453</td>\n",
              "    </tr>\n",
              "    <tr>\n",
              "      <th>2023-04-11</th>\n",
              "      <td>29652.980469</td>\n",
              "      <td>26489.789062</td>\n",
              "    </tr>\n",
              "  </tbody>\n",
              "</table>\n",
              "<p>384 rows × 2 columns</p>\n",
              "</div>\n",
              "    <div class=\"colab-df-buttons\">\n",
              "\n",
              "  <div class=\"colab-df-container\">\n",
              "    <button class=\"colab-df-convert\" onclick=\"convertToInteractive('df-854417a5-559b-44d6-a9f9-559c21442709')\"\n",
              "            title=\"Convert this dataframe to an interactive table.\"\n",
              "            style=\"display:none;\">\n",
              "\n",
              "  <svg xmlns=\"http://www.w3.org/2000/svg\" height=\"24px\" viewBox=\"0 -960 960 960\">\n",
              "    <path d=\"M120-120v-720h720v720H120Zm60-500h600v-160H180v160Zm220 220h160v-160H400v160Zm0 220h160v-160H400v160ZM180-400h160v-160H180v160Zm440 0h160v-160H620v160ZM180-180h160v-160H180v160Zm440 0h160v-160H620v160Z\"/>\n",
              "  </svg>\n",
              "    </button>\n",
              "\n",
              "  <style>\n",
              "    .colab-df-container {\n",
              "      display:flex;\n",
              "      gap: 12px;\n",
              "    }\n",
              "\n",
              "    .colab-df-convert {\n",
              "      background-color: #E8F0FE;\n",
              "      border: none;\n",
              "      border-radius: 50%;\n",
              "      cursor: pointer;\n",
              "      display: none;\n",
              "      fill: #1967D2;\n",
              "      height: 32px;\n",
              "      padding: 0 0 0 0;\n",
              "      width: 32px;\n",
              "    }\n",
              "\n",
              "    .colab-df-convert:hover {\n",
              "      background-color: #E2EBFA;\n",
              "      box-shadow: 0px 1px 2px rgba(60, 64, 67, 0.3), 0px 1px 3px 1px rgba(60, 64, 67, 0.15);\n",
              "      fill: #174EA6;\n",
              "    }\n",
              "\n",
              "    .colab-df-buttons div {\n",
              "      margin-bottom: 4px;\n",
              "    }\n",
              "\n",
              "    [theme=dark] .colab-df-convert {\n",
              "      background-color: #3B4455;\n",
              "      fill: #D2E3FC;\n",
              "    }\n",
              "\n",
              "    [theme=dark] .colab-df-convert:hover {\n",
              "      background-color: #434B5C;\n",
              "      box-shadow: 0px 1px 3px 1px rgba(0, 0, 0, 0.15);\n",
              "      filter: drop-shadow(0px 1px 2px rgba(0, 0, 0, 0.3));\n",
              "      fill: #FFFFFF;\n",
              "    }\n",
              "  </style>\n",
              "\n",
              "    <script>\n",
              "      const buttonEl =\n",
              "        document.querySelector('#df-854417a5-559b-44d6-a9f9-559c21442709 button.colab-df-convert');\n",
              "      buttonEl.style.display =\n",
              "        google.colab.kernel.accessAllowed ? 'block' : 'none';\n",
              "\n",
              "      async function convertToInteractive(key) {\n",
              "        const element = document.querySelector('#df-854417a5-559b-44d6-a9f9-559c21442709');\n",
              "        const dataTable =\n",
              "          await google.colab.kernel.invokeFunction('convertToInteractive',\n",
              "                                                    [key], {});\n",
              "        if (!dataTable) return;\n",
              "\n",
              "        const docLinkHtml = 'Like what you see? Visit the ' +\n",
              "          '<a target=\"_blank\" href=https://colab.research.google.com/notebooks/data_table.ipynb>data table notebook</a>'\n",
              "          + ' to learn more about interactive tables.';\n",
              "        element.innerHTML = '';\n",
              "        dataTable['output_type'] = 'display_data';\n",
              "        await google.colab.output.renderOutput(dataTable, element);\n",
              "        const docLink = document.createElement('div');\n",
              "        docLink.innerHTML = docLinkHtml;\n",
              "        element.appendChild(docLink);\n",
              "      }\n",
              "    </script>\n",
              "  </div>\n",
              "\n",
              "\n",
              "<div id=\"df-6e2add8b-f781-442c-8860-b4bc0d0796d8\">\n",
              "  <button class=\"colab-df-quickchart\" onclick=\"quickchart('df-6e2add8b-f781-442c-8860-b4bc0d0796d8')\"\n",
              "            title=\"Suggest charts\"\n",
              "            style=\"display:none;\">\n",
              "\n",
              "<svg xmlns=\"http://www.w3.org/2000/svg\" height=\"24px\"viewBox=\"0 0 24 24\"\n",
              "     width=\"24px\">\n",
              "    <g>\n",
              "        <path d=\"M19 3H5c-1.1 0-2 .9-2 2v14c0 1.1.9 2 2 2h14c1.1 0 2-.9 2-2V5c0-1.1-.9-2-2-2zM9 17H7v-7h2v7zm4 0h-2V7h2v10zm4 0h-2v-4h2v4z\"/>\n",
              "    </g>\n",
              "</svg>\n",
              "  </button>\n",
              "\n",
              "<style>\n",
              "  .colab-df-quickchart {\n",
              "      --bg-color: #E8F0FE;\n",
              "      --fill-color: #1967D2;\n",
              "      --hover-bg-color: #E2EBFA;\n",
              "      --hover-fill-color: #174EA6;\n",
              "      --disabled-fill-color: #AAA;\n",
              "      --disabled-bg-color: #DDD;\n",
              "  }\n",
              "\n",
              "  [theme=dark] .colab-df-quickchart {\n",
              "      --bg-color: #3B4455;\n",
              "      --fill-color: #D2E3FC;\n",
              "      --hover-bg-color: #434B5C;\n",
              "      --hover-fill-color: #FFFFFF;\n",
              "      --disabled-bg-color: #3B4455;\n",
              "      --disabled-fill-color: #666;\n",
              "  }\n",
              "\n",
              "  .colab-df-quickchart {\n",
              "    background-color: var(--bg-color);\n",
              "    border: none;\n",
              "    border-radius: 50%;\n",
              "    cursor: pointer;\n",
              "    display: none;\n",
              "    fill: var(--fill-color);\n",
              "    height: 32px;\n",
              "    padding: 0;\n",
              "    width: 32px;\n",
              "  }\n",
              "\n",
              "  .colab-df-quickchart:hover {\n",
              "    background-color: var(--hover-bg-color);\n",
              "    box-shadow: 0 1px 2px rgba(60, 64, 67, 0.3), 0 1px 3px 1px rgba(60, 64, 67, 0.15);\n",
              "    fill: var(--button-hover-fill-color);\n",
              "  }\n",
              "\n",
              "  .colab-df-quickchart-complete:disabled,\n",
              "  .colab-df-quickchart-complete:disabled:hover {\n",
              "    background-color: var(--disabled-bg-color);\n",
              "    fill: var(--disabled-fill-color);\n",
              "    box-shadow: none;\n",
              "  }\n",
              "\n",
              "  .colab-df-spinner {\n",
              "    border: 2px solid var(--fill-color);\n",
              "    border-color: transparent;\n",
              "    border-bottom-color: var(--fill-color);\n",
              "    animation:\n",
              "      spin 1s steps(1) infinite;\n",
              "  }\n",
              "\n",
              "  @keyframes spin {\n",
              "    0% {\n",
              "      border-color: transparent;\n",
              "      border-bottom-color: var(--fill-color);\n",
              "      border-left-color: var(--fill-color);\n",
              "    }\n",
              "    20% {\n",
              "      border-color: transparent;\n",
              "      border-left-color: var(--fill-color);\n",
              "      border-top-color: var(--fill-color);\n",
              "    }\n",
              "    30% {\n",
              "      border-color: transparent;\n",
              "      border-left-color: var(--fill-color);\n",
              "      border-top-color: var(--fill-color);\n",
              "      border-right-color: var(--fill-color);\n",
              "    }\n",
              "    40% {\n",
              "      border-color: transparent;\n",
              "      border-right-color: var(--fill-color);\n",
              "      border-top-color: var(--fill-color);\n",
              "    }\n",
              "    60% {\n",
              "      border-color: transparent;\n",
              "      border-right-color: var(--fill-color);\n",
              "    }\n",
              "    80% {\n",
              "      border-color: transparent;\n",
              "      border-right-color: var(--fill-color);\n",
              "      border-bottom-color: var(--fill-color);\n",
              "    }\n",
              "    90% {\n",
              "      border-color: transparent;\n",
              "      border-bottom-color: var(--fill-color);\n",
              "    }\n",
              "  }\n",
              "</style>\n",
              "\n",
              "  <script>\n",
              "    async function quickchart(key) {\n",
              "      const quickchartButtonEl =\n",
              "        document.querySelector('#' + key + ' button');\n",
              "      quickchartButtonEl.disabled = true;  // To prevent multiple clicks.\n",
              "      quickchartButtonEl.classList.add('colab-df-spinner');\n",
              "      try {\n",
              "        const charts = await google.colab.kernel.invokeFunction(\n",
              "            'suggestCharts', [key], {});\n",
              "      } catch (error) {\n",
              "        console.error('Error during call to suggestCharts:', error);\n",
              "      }\n",
              "      quickchartButtonEl.classList.remove('colab-df-spinner');\n",
              "      quickchartButtonEl.classList.add('colab-df-quickchart-complete');\n",
              "    }\n",
              "    (() => {\n",
              "      let quickchartButtonEl =\n",
              "        document.querySelector('#df-6e2add8b-f781-442c-8860-b4bc0d0796d8 button');\n",
              "      quickchartButtonEl.style.display =\n",
              "        google.colab.kernel.accessAllowed ? 'block' : 'none';\n",
              "    })();\n",
              "  </script>\n",
              "</div>\n",
              "    </div>\n",
              "  </div>\n"
            ]
          },
          "metadata": {},
          "execution_count": 24
        },
        {
          "output_type": "display_data",
          "data": {
            "text/plain": [
              "<Figure size 1600x800 with 1 Axes>"
            ],
            "image/png": "[encoded data removed]"
          },
          "metadata": {}
        }
      ]
    },
    {
      "cell_type": "code",
      "source": [],
      "metadata": {
        "id": "qyiNZOACE9uA"
      },
      "execution_count": null,
      "outputs": []
    },
    {
      "cell_type": "code",
      "source": [],
      "metadata": {
        "id": "RbnUUuk9E9pI"
      },
      "execution_count": null,
      "outputs": []
    },
    {
      "cell_type": "code",
      "source": [],
      "metadata": {
        "id": "YSgxF-c9E9j_"
      },
      "execution_count": null,
      "outputs": []
    },
    {
      "cell_type": "code",
      "source": [],
      "metadata": {
        "id": "r6_jO6_XE9fb"
      },
      "execution_count": null,
      "outputs": []
    },
    {
      "cell_type": "code",
      "source": [],
      "metadata": {
        "id": "_m3ydJ2oE9Z2"
      },
      "execution_count": null,
      "outputs": []
    },
    {
      "cell_type": "code",
      "source": [],
      "metadata": {
        "id": "-dxL3PEKE9VF"
      },
      "execution_count": null,
      "outputs": []
    },
    {
      "cell_type": "markdown",
      "source": [
        "### Other trys"
      ],
      "metadata": {
        "id": "SYznphCNE-a3"
      }
    },
    {
      "cell_type": "code",
      "execution_count": null,
      "metadata": {
        "id": "rWn5dlX_fJAf"
      },
      "outputs": [],
      "source": [
        "s# modeling lstm 1.4\n",
        "model = Sequential()\n",
        "model.add(LSTM(200, return_sequences=True, input_shape=(time_period, 46)))\n",
        "model.add(LSTM(200, return_sequences=False))\n",
        "model.add(Dense(100))\n",
        "model.add(Dense(25))\n",
        "model.add(Dense(1))\n",
        "model.compile(optimizer='adam', loss='mean_squared_error')\n"
      ]
    },
    {
      "cell_type": "code",
      "source": [
        "# training\n",
        "history_lstm  = model.fit(X_train, y_train, batch_size=64, epochs=20, verbose=1)"
      ],
      "metadata": {
        "colab": {
          "base_uri": "https://localhost:8080/"
        },
        "id": "w_Vu0vMJe5fE",
        "outputId": "ee116322-301e-4880-db9f-e78fb31b48be"
      },
      "execution_count": null,
      "outputs": [
        {
          "output_type": "stream",
          "name": "stdout",
          "text": [
            "Epoch 1/20\n",
            "24/24 [==============================] - 5s 18ms/step - loss: 0.0309\n",
            "Epoch 2/20\n",
            "24/24 [==============================] - 0s 14ms/step - loss: 0.0023\n",
            "Epoch 3/20\n",
            "24/24 [==============================] - 0s 13ms/step - loss: 0.0013\n",
            "Epoch 4/20\n",
            "24/24 [==============================] - 0s 13ms/step - loss: 9.1804e-04\n",
            "Epoch 5/20\n",
            "24/24 [==============================] - 0s 12ms/step - loss: 0.0011\n",
            "Epoch 6/20\n",
            "24/24 [==============================] - 0s 13ms/step - loss: 7.9434e-04\n",
            "Epoch 7/20\n",
            "24/24 [==============================] - 0s 13ms/step - loss: 7.8862e-04\n",
            "Epoch 8/20\n",
            "24/24 [==============================] - 0s 14ms/step - loss: 9.0328e-04\n",
            "Epoch 9/20\n",
            "24/24 [==============================] - 0s 13ms/step - loss: 7.5900e-04\n",
            "Epoch 10/20\n",
            "24/24 [==============================] - 0s 13ms/step - loss: 7.4171e-04\n",
            "Epoch 11/20\n",
            "24/24 [==============================] - 0s 13ms/step - loss: 6.6563e-04\n",
            "Epoch 12/20\n",
            "24/24 [==============================] - 0s 13ms/step - loss: 6.4066e-04\n",
            "Epoch 13/20\n",
            "24/24 [==============================] - 0s 13ms/step - loss: 7.1252e-04\n",
            "Epoch 14/20\n",
            "24/24 [==============================] - 0s 13ms/step - loss: 6.7078e-04\n",
            "Epoch 15/20\n",
            "24/24 [==============================] - 0s 13ms/step - loss: 6.3472e-04\n",
            "Epoch 16/20\n",
            "24/24 [==============================] - 0s 13ms/step - loss: 6.7601e-04\n",
            "Epoch 17/20\n",
            "24/24 [==============================] - 0s 13ms/step - loss: 6.4686e-04\n",
            "Epoch 18/20\n",
            "24/24 [==============================] - 0s 13ms/step - loss: 6.2133e-04\n",
            "Epoch 19/20\n",
            "24/24 [==============================] - 0s 14ms/step - loss: 5.5709e-04\n",
            "Epoch 20/20\n",
            "24/24 [==============================] - 0s 14ms/step - loss: 5.7059e-04\n"
          ]
        }
      ]
    },
    {
      "cell_type": "code",
      "source": [
        "pd.DataFrame(history_lstm.history).plot()"
      ],
      "metadata": {
        "colab": {
          "base_uri": "https://localhost:8080/",
          "height": 447
        },
        "id": "fVS2ji7afAHO",
        "outputId": "9345bc3f-efa6-4187-b6c2-b0d6294aac35"
      },
      "execution_count": null,
      "outputs": [
        {
          "output_type": "execute_result",
          "data": {
            "text/plain": [
              "<Axes: >"
            ]
          },
          "metadata": {},
          "execution_count": 38
        },
        {
          "output_type": "display_data",
          "data": {
            "text/plain": [
              "<Figure size 640x480 with 1 Axes>"
            ],
            "image/png": "[encoded data removed]"
          },
          "metadata": {}
        }
      ]
    },
    {
      "cell_type": "markdown",
      "source": [
        "# train"
      ],
      "metadata": {
        "id": "B-WSUoi1Tmm7"
      }
    },
    {
      "cell_type": "code",
      "execution_count": null,
      "metadata": {
        "colab": {
          "base_uri": "https://localhost:8080/"
        },
        "id": "i5i1W4ZYx4kd",
        "outputId": "df45bc24-2aa5-490a-ac05-cb972db7b69a"
      },
      "outputs": [
        {
          "output_type": "stream",
          "name": "stdout",
          "text": [
            "Epoch 1/50\n",
            "24/24 [==============================] - 14s 9ms/step - loss: 0.0319\n",
            "Epoch 2/50\n",
            "24/24 [==============================] - 0s 6ms/step - loss: 0.0091\n",
            "Epoch 3/50\n",
            "24/24 [==============================] - 0s 7ms/step - loss: 0.0047\n",
            "Epoch 4/50\n",
            "24/24 [==============================] - 0s 7ms/step - loss: 0.0031\n",
            "Epoch 5/50\n",
            "24/24 [==============================] - 0s 6ms/step - loss: 0.0022\n",
            "Epoch 6/50\n",
            "24/24 [==============================] - 0s 6ms/step - loss: 0.0022\n",
            "Epoch 7/50\n",
            "24/24 [==============================] - 0s 7ms/step - loss: 0.0018\n",
            "Epoch 8/50\n",
            "24/24 [==============================] - 0s 7ms/step - loss: 0.0016\n",
            "Epoch 9/50\n",
            "24/24 [==============================] - 0s 7ms/step - loss: 0.0018\n",
            "Epoch 10/50\n",
            "24/24 [==============================] - 0s 7ms/step - loss: 0.0017\n",
            "Epoch 11/50\n",
            "24/24 [==============================] - 0s 7ms/step - loss: 0.0014\n",
            "Epoch 12/50\n",
            "24/24 [==============================] - 0s 7ms/step - loss: 0.0012\n",
            "Epoch 13/50\n",
            "24/24 [==============================] - 0s 7ms/step - loss: 0.0013\n",
            "Epoch 14/50\n",
            "24/24 [==============================] - 0s 7ms/step - loss: 0.0013\n",
            "Epoch 15/50\n",
            "24/24 [==============================] - 0s 7ms/step - loss: 0.0010\n",
            "Epoch 16/50\n",
            "24/24 [==============================] - 0s 7ms/step - loss: 0.0010\n",
            "Epoch 17/50\n",
            "24/24 [==============================] - 0s 7ms/step - loss: 9.7507e-04\n",
            "Epoch 18/50\n",
            "24/24 [==============================] - 0s 7ms/step - loss: 8.1441e-04\n",
            "Epoch 19/50\n",
            "24/24 [==============================] - 0s 7ms/step - loss: 9.0181e-04\n",
            "Epoch 20/50\n",
            "24/24 [==============================] - 0s 7ms/step - loss: 8.4487e-04\n",
            "Epoch 21/50\n",
            "24/24 [==============================] - 0s 7ms/step - loss: 0.0011\n",
            "Epoch 22/50\n",
            "24/24 [==============================] - 0s 7ms/step - loss: 0.0013\n",
            "Epoch 23/50\n",
            "24/24 [==============================] - 0s 7ms/step - loss: 0.0012\n",
            "Epoch 24/50\n",
            "24/24 [==============================] - 0s 7ms/step - loss: 9.3325e-04\n",
            "Epoch 25/50\n",
            "24/24 [==============================] - 0s 7ms/step - loss: 9.4079e-04\n",
            "Epoch 26/50\n",
            "24/24 [==============================] - 0s 6ms/step - loss: 8.2728e-04\n",
            "Epoch 27/50\n",
            "24/24 [==============================] - 0s 6ms/step - loss: 6.8154e-04\n",
            "Epoch 28/50\n",
            "24/24 [==============================] - 0s 7ms/step - loss: 7.4231e-04\n",
            "Epoch 29/50\n",
            "24/24 [==============================] - 0s 8ms/step - loss: 8.7482e-04\n",
            "Epoch 30/50\n",
            "24/24 [==============================] - 0s 7ms/step - loss: 9.6156e-04\n",
            "Epoch 31/50\n",
            "24/24 [==============================] - 0s 6ms/step - loss: 7.4501e-04\n",
            "Epoch 32/50\n",
            "24/24 [==============================] - 0s 7ms/step - loss: 6.8491e-04\n",
            "Epoch 33/50\n",
            "24/24 [==============================] - 0s 6ms/step - loss: 6.6056e-04\n",
            "Epoch 34/50\n",
            "24/24 [==============================] - 0s 7ms/step - loss: 9.0004e-04\n",
            "Epoch 35/50\n",
            "24/24 [==============================] - 0s 7ms/step - loss: 8.0844e-04\n",
            "Epoch 36/50\n",
            "24/24 [==============================] - 0s 7ms/step - loss: 6.4391e-04\n",
            "Epoch 37/50\n",
            "24/24 [==============================] - 0s 6ms/step - loss: 6.2788e-04\n",
            "Epoch 38/50\n",
            "24/24 [==============================] - 0s 7ms/step - loss: 6.2144e-04\n",
            "Epoch 39/50\n",
            "24/24 [==============================] - 0s 7ms/step - loss: 6.4817e-04\n",
            "Epoch 40/50\n",
            "24/24 [==============================] - 0s 7ms/step - loss: 5.6946e-04\n",
            "Epoch 41/50\n",
            "24/24 [==============================] - 0s 7ms/step - loss: 7.1222e-04\n",
            "Epoch 42/50\n",
            "24/24 [==============================] - 0s 7ms/step - loss: 8.5557e-04\n",
            "Epoch 43/50\n",
            "24/24 [==============================] - 0s 7ms/step - loss: 7.8180e-04\n",
            "Epoch 44/50\n",
            "24/24 [==============================] - 0s 6ms/step - loss: 8.1915e-04\n",
            "Epoch 45/50\n",
            "24/24 [==============================] - 0s 7ms/step - loss: 5.9900e-04\n",
            "Epoch 46/50\n",
            "24/24 [==============================] - 0s 7ms/step - loss: 6.7425e-04\n",
            "Epoch 47/50\n",
            "24/24 [==============================] - 0s 7ms/step - loss: 5.6835e-04\n",
            "Epoch 48/50\n",
            "24/24 [==============================] - 0s 7ms/step - loss: 5.3685e-04\n",
            "Epoch 49/50\n",
            "24/24 [==============================] - 0s 7ms/step - loss: 7.3392e-04\n",
            "Epoch 50/50\n",
            "24/24 [==============================] - 0s 7ms/step - loss: 7.9861e-04\n"
          ]
        },
        {
          "output_type": "execute_result",
          "data": {
            "text/plain": [
              "<keras.src.callbacks.History at 0x7f76673d0dc0>"
            ]
          },
          "metadata": {},
          "execution_count": 23
        }
      ],
      "source": [
        "# training\n",
        "model.fit(X_train, y_train, batch_size=64, epochs=50, verbose=1)\n"
      ]
    },
    {
      "cell_type": "code",
      "source": [
        "model.summary()"
      ],
      "metadata": {
        "colab": {
          "base_uri": "https://localhost:8080/"
        },
        "id": "VTBNy6khUIfe",
        "outputId": "d24383ca-9e86-45b0-a144-924eb99c8629"
      },
      "execution_count": null,
      "outputs": [
        {
          "output_type": "stream",
          "name": "stdout",
          "text": [
            "Model: \"sequential_1\"\n",
            "_________________________________________________________________\n",
            " Layer (type)                Output Shape              Param #   \n",
            "=================================================================\n",
            " conv1d (Conv1D)             (None, 58, 64)            8896      \n",
            "                                                                 \n",
            " max_pooling1d (MaxPooling1  (None, 29, 64)            0         \n",
            " D)                                                              \n",
            "                                                                 \n",
            " global_max_pooling1d (Glob  (None, 64)                0         \n",
            " alMaxPooling1D)                                                 \n",
            "                                                                 \n",
            " reshape (Reshape)           (None, 1, 64)             0         \n",
            "                                                                 \n",
            " lstm_2 (LSTM)               (None, 1, 100)            66000     \n",
            "                                                                 \n",
            " lstm_3 (LSTM)               (None, 100)               80400     \n",
            "                                                                 \n",
            " dense_2 (Dense)             (None, 100)               10100     \n",
            "                                                                 \n",
            " dense_3 (Dense)             (None, 50)                5050      \n",
            "                                                                 \n",
            " dense_4 (Dense)             (None, 10)                510       \n",
            "                                                                 \n",
            " dense_5 (Dense)             (None, 1)                 11        \n",
            "                                                                 \n",
            "=================================================================\n",
            "Total params: 170967 (667.84 KB)\n",
            "Trainable params: 170967 (667.84 KB)\n",
            "Non-trainable params: 0 (0.00 Byte)\n",
            "_________________________________________________________________\n"
          ]
        }
      ]
    },
    {
      "cell_type": "code",
      "execution_count": null,
      "metadata": {
        "colab": {
          "base_uri": "https://localhost:8080/"
        },
        "id": "4ibxDVcDx4hs",
        "outputId": "04641fed-0614-4037-d6a0-241a1c1efe60"
      },
      "outputs": [
        {
          "output_type": "stream",
          "name": "stdout",
          "text": [
            "12/12 [==============================] - 1s 5ms/step\n"
          ]
        }
      ],
      "source": [
        "# model result\n",
        "predicted_prices = model.predict(X_test)\n",
        "#predicted_prices = predicted_prices.reshape(-1, 1)\n",
        "predicted_prices = scaler_bitclose.inverse_transform(predicted_prices)"
      ]
    },
    {
      "cell_type": "code",
      "execution_count": null,
      "metadata": {
        "colab": {
          "base_uri": "https://localhost:8080/"
        },
        "id": "lbOOPIACx4ev",
        "outputId": "72f5d53f-599f-4769-c713-4112f117685c"
      },
      "outputs": [
        {
          "output_type": "stream",
          "name": "stdout",
          "text": [
            "RMSE: 4916.445228229574\n"
          ]
        }
      ],
      "source": [
        "\n",
        "\n",
        "# RMSE\n",
        "real_prices = scaler_bitclose.inverse_transform(y_test.reshape(-1, 1))\n",
        "rmse = math.sqrt(mean_squared_error(real_prices, predicted_prices))\n",
        "print(f'RMSE: {rmse}')\n"
      ]
    },
    {
      "cell_type": "code",
      "execution_count": null,
      "metadata": {
        "colab": {
          "base_uri": "https://localhost:8080/",
          "height": 718
        },
        "id": "mmzzKfX3z4sE",
        "outputId": "14bd736d-0990-4c0e-9317-c6d6edb974b6"
      },
      "outputs": [
        {
          "output_type": "display_data",
          "data": {
            "text/plain": [
              "<Figure size 1200x800 with 1 Axes>"
            ],
            "image/png": "[encoded data removed]"
          },
          "metadata": {}
        }
      ],
      "source": [
        "# plot\n",
        "import matplotlib.pyplot as plt\n",
        "\n",
        "# plot the vs fig\n",
        "plt.figure(figsize=(12, 8))\n",
        "plt.plot(real_prices, label='true bitcoin price')\n",
        "plt.plot(predicted_prices, label='forcast price', alpha=0.7)\n",
        "plt.title('bitcoin lstm forcast')\n",
        "plt.xlabel('time')\n",
        "plt.ylabel('price (USD)')\n",
        "plt.legend()\n",
        "plt.show()\n"
      ]
    },
    {
      "cell_type": "code",
      "execution_count": null,
      "metadata": {
        "id": "h1RPWDn5ReVP"
      },
      "outputs": [],
      "source": []
    },
    {
      "cell_type": "code",
      "execution_count": null,
      "metadata": {
        "id": "PagseYa15AdX"
      },
      "outputs": [],
      "source": []
    },
    {
      "cell_type": "code",
      "execution_count": null,
      "metadata": {
        "id": "mOJvyNOB5Zf2"
      },
      "outputs": [],
      "source": []
    },
    {
      "cell_type": "code",
      "execution_count": null,
      "metadata": {
        "colab": {
          "base_uri": "https://localhost:8080/",
          "height": 419
        },
        "id": "_SO9BcbCz4o6",
        "outputId": "e00229c6-7347-4ce9-8709-9cf558d77f9b"
      },
      "outputs": [
        {
          "output_type": "execute_result",
          "data": {
            "text/plain": [
              "      real_prices  predicted_prices\n",
              "0    42892.957031      40801.691406\n",
              "1    43960.933594      40758.144531\n",
              "2    44348.730469      40763.492188\n",
              "3    44500.828125      40787.449219\n",
              "4    46820.492188      40831.113281\n",
              "..            ...               ...\n",
              "379  28044.140625      20542.363281\n",
              "380  27925.859375      20546.699219\n",
              "381  27947.794922      20555.464844\n",
              "382  28333.050781      20561.474609\n",
              "383  29652.980469      20561.738281\n",
              "\n",
              "[384 rows x 2 columns]"
            ],
            "text/html": [
              "\n",
              "  <div id=\"df-2228ede2-b527-48a3-bef0-6c19e90f0e84\" class=\"colab-df-container\">\n",
              "    <div>\n",
              "<style scoped>\n",
              "    .dataframe tbody tr th:only-of-type {\n",
              "        vertical-align: middle;\n",
              "    }\n",
              "\n",
              "    .dataframe tbody tr th {\n",
              "        vertical-align: top;\n",
              "    }\n",
              "\n",
              "    .dataframe thead th {\n",
              "        text-align: right;\n",
              "    }\n",
              "</style>\n",
              "<table border=\"1\" class=\"dataframe\">\n",
              "  <thead>\n",
              "    <tr style=\"text-align: right;\">\n",
              "      <th></th>\n",
              "      <th>real_prices</th>\n",
              "      <th>predicted_prices</th>\n",
              "    </tr>\n",
              "  </thead>\n",
              "  <tbody>\n",
              "    <tr>\n",
              "      <th>0</th>\n",
              "      <td>42892.957031</td>\n",
              "      <td>40801.691406</td>\n",
              "    </tr>\n",
              "    <tr>\n",
              "      <th>1</th>\n",
              "      <td>43960.933594</td>\n",
              "      <td>40758.144531</td>\n",
              "    </tr>\n",
              "    <tr>\n",
              "      <th>2</th>\n",
              "      <td>44348.730469</td>\n",
              "      <td>40763.492188</td>\n",
              "    </tr>\n",
              "    <tr>\n",
              "      <th>3</th>\n",
              "      <td>44500.828125</td>\n",
              "      <td>40787.449219</td>\n",
              "    </tr>\n",
              "    <tr>\n",
              "      <th>4</th>\n",
              "      <td>46820.492188</td>\n",
              "      <td>40831.113281</td>\n",
              "    </tr>\n",
              "    <tr>\n",
              "      <th>...</th>\n",
              "      <td>...</td>\n",
              "      <td>...</td>\n",
              "    </tr>\n",
              "    <tr>\n",
              "      <th>379</th>\n",
              "      <td>28044.140625</td>\n",
              "      <td>20542.363281</td>\n",
              "    </tr>\n",
              "    <tr>\n",
              "      <th>380</th>\n",
              "      <td>27925.859375</td>\n",
              "      <td>20546.699219</td>\n",
              "    </tr>\n",
              "    <tr>\n",
              "      <th>381</th>\n",
              "      <td>27947.794922</td>\n",
              "      <td>20555.464844</td>\n",
              "    </tr>\n",
              "    <tr>\n",
              "      <th>382</th>\n",
              "      <td>28333.050781</td>\n",
              "      <td>20561.474609</td>\n",
              "    </tr>\n",
              "    <tr>\n",
              "      <th>383</th>\n",
              "      <td>29652.980469</td>\n",
              "      <td>20561.738281</td>\n",
              "    </tr>\n",
              "  </tbody>\n",
              "</table>\n",
              "<p>384 rows × 2 columns</p>\n",
              "</div>\n",
              "    <div class=\"colab-df-buttons\">\n",
              "\n",
              "  <div class=\"colab-df-container\">\n",
              "    <button class=\"colab-df-convert\" onclick=\"convertToInteractive('df-2228ede2-b527-48a3-bef0-6c19e90f0e84')\"\n",
              "            title=\"Convert this dataframe to an interactive table.\"\n",
              "            style=\"display:none;\">\n",
              "\n",
              "  <svg xmlns=\"http://www.w3.org/2000/svg\" height=\"24px\" viewBox=\"0 -960 960 960\">\n",
              "    <path d=\"M120-120v-720h720v720H120Zm60-500h600v-160H180v160Zm220 220h160v-160H400v160Zm0 220h160v-160H400v160ZM180-400h160v-160H180v160Zm440 0h160v-160H620v160ZM180-180h160v-160H180v160Zm440 0h160v-160H620v160Z\"/>\n",
              "  </svg>\n",
              "    </button>\n",
              "\n",
              "  <style>\n",
              "    .colab-df-container {\n",
              "      display:flex;\n",
              "      gap: 12px;\n",
              "    }\n",
              "\n",
              "    .colab-df-convert {\n",
              "      background-color: #E8F0FE;\n",
              "      border: none;\n",
              "      border-radius: 50%;\n",
              "      cursor: pointer;\n",
              "      display: none;\n",
              "      fill: #1967D2;\n",
              "      height: 32px;\n",
              "      padding: 0 0 0 0;\n",
              "      width: 32px;\n",
              "    }\n",
              "\n",
              "    .colab-df-convert:hover {\n",
              "      background-color: #E2EBFA;\n",
              "      box-shadow: 0px 1px 2px rgba(60, 64, 67, 0.3), 0px 1px 3px 1px rgba(60, 64, 67, 0.15);\n",
              "      fill: #174EA6;\n",
              "    }\n",
              "\n",
              "    .colab-df-buttons div {\n",
              "      margin-bottom: 4px;\n",
              "    }\n",
              "\n",
              "    [theme=dark] .colab-df-convert {\n",
              "      background-color: #3B4455;\n",
              "      fill: #D2E3FC;\n",
              "    }\n",
              "\n",
              "    [theme=dark] .colab-df-convert:hover {\n",
              "      background-color: #434B5C;\n",
              "      box-shadow: 0px 1px 3px 1px rgba(0, 0, 0, 0.15);\n",
              "      filter: drop-shadow(0px 1px 2px rgba(0, 0, 0, 0.3));\n",
              "      fill: #FFFFFF;\n",
              "    }\n",
              "  </style>\n",
              "\n",
              "    <script>\n",
              "      const buttonEl =\n",
              "        document.querySelector('#df-2228ede2-b527-48a3-bef0-6c19e90f0e84 button.colab-df-convert');\n",
              "      buttonEl.style.display =\n",
              "        google.colab.kernel.accessAllowed ? 'block' : 'none';\n",
              "\n",
              "      async function convertToInteractive(key) {\n",
              "        const element = document.querySelector('#df-2228ede2-b527-48a3-bef0-6c19e90f0e84');\n",
              "        const dataTable =\n",
              "          await google.colab.kernel.invokeFunction('convertToInteractive',\n",
              "                                                    [key], {});\n",
              "        if (!dataTable) return;\n",
              "\n",
              "        const docLinkHtml = 'Like what you see? Visit the ' +\n",
              "          '<a target=\"_blank\" href=https://colab.research.google.com/notebooks/data_table.ipynb>data table notebook</a>'\n",
              "          + ' to learn more about interactive tables.';\n",
              "        element.innerHTML = '';\n",
              "        dataTable['output_type'] = 'display_data';\n",
              "        await google.colab.output.renderOutput(dataTable, element);\n",
              "        const docLink = document.createElement('div');\n",
              "        docLink.innerHTML = docLinkHtml;\n",
              "        element.appendChild(docLink);\n",
              "      }\n",
              "    </script>\n",
              "  </div>\n",
              "\n",
              "\n",
              "<div id=\"df-9af7d50b-0079-458f-bbfc-14614658743a\">\n",
              "  <button class=\"colab-df-quickchart\" onclick=\"quickchart('df-9af7d50b-0079-458f-bbfc-14614658743a')\"\n",
              "            title=\"Suggest charts\"\n",
              "            style=\"display:none;\">\n",
              "\n",
              "<svg xmlns=\"http://www.w3.org/2000/svg\" height=\"24px\"viewBox=\"0 0 24 24\"\n",
              "     width=\"24px\">\n",
              "    <g>\n",
              "        <path d=\"M19 3H5c-1.1 0-2 .9-2 2v14c0 1.1.9 2 2 2h14c1.1 0 2-.9 2-2V5c0-1.1-.9-2-2-2zM9 17H7v-7h2v7zm4 0h-2V7h2v10zm4 0h-2v-4h2v4z\"/>\n",
              "    </g>\n",
              "</svg>\n",
              "  </button>\n",
              "\n",
              "<style>\n",
              "  .colab-df-quickchart {\n",
              "      --bg-color: #E8F0FE;\n",
              "      --fill-color: #1967D2;\n",
              "      --hover-bg-color: #E2EBFA;\n",
              "      --hover-fill-color: #174EA6;\n",
              "      --disabled-fill-color: #AAA;\n",
              "      --disabled-bg-color: #DDD;\n",
              "  }\n",
              "\n",
              "  [theme=dark] .colab-df-quickchart {\n",
              "      --bg-color: #3B4455;\n",
              "      --fill-color: #D2E3FC;\n",
              "      --hover-bg-color: #434B5C;\n",
              "      --hover-fill-color: #FFFFFF;\n",
              "      --disabled-bg-color: #3B4455;\n",
              "      --disabled-fill-color: #666;\n",
              "  }\n",
              "\n",
              "  .colab-df-quickchart {\n",
              "    background-color: var(--bg-color);\n",
              "    border: none;\n",
              "    border-radius: 50%;\n",
              "    cursor: pointer;\n",
              "    display: none;\n",
              "    fill: var(--fill-color);\n",
              "    height: 32px;\n",
              "    padding: 0;\n",
              "    width: 32px;\n",
              "  }\n",
              "\n",
              "  .colab-df-quickchart:hover {\n",
              "    background-color: var(--hover-bg-color);\n",
              "    box-shadow: 0 1px 2px rgba(60, 64, 67, 0.3), 0 1px 3px 1px rgba(60, 64, 67, 0.15);\n",
              "    fill: var(--button-hover-fill-color);\n",
              "  }\n",
              "\n",
              "  .colab-df-quickchart-complete:disabled,\n",
              "  .colab-df-quickchart-complete:disabled:hover {\n",
              "    background-color: var(--disabled-bg-color);\n",
              "    fill: var(--disabled-fill-color);\n",
              "    box-shadow: none;\n",
              "  }\n",
              "\n",
              "  .colab-df-spinner {\n",
              "    border: 2px solid var(--fill-color);\n",
              "    border-color: transparent;\n",
              "    border-bottom-color: var(--fill-color);\n",
              "    animation:\n",
              "      spin 1s steps(1) infinite;\n",
              "  }\n",
              "\n",
              "  @keyframes spin {\n",
              "    0% {\n",
              "      border-color: transparent;\n",
              "      border-bottom-color: var(--fill-color);\n",
              "      border-left-color: var(--fill-color);\n",
              "    }\n",
              "    20% {\n",
              "      border-color: transparent;\n",
              "      border-left-color: var(--fill-color);\n",
              "      border-top-color: var(--fill-color);\n",
              "    }\n",
              "    30% {\n",
              "      border-color: transparent;\n",
              "      border-left-color: var(--fill-color);\n",
              "      border-top-color: var(--fill-color);\n",
              "      border-right-color: var(--fill-color);\n",
              "    }\n",
              "    40% {\n",
              "      border-color: transparent;\n",
              "      border-right-color: var(--fill-color);\n",
              "      border-top-color: var(--fill-color);\n",
              "    }\n",
              "    60% {\n",
              "      border-color: transparent;\n",
              "      border-right-color: var(--fill-color);\n",
              "    }\n",
              "    80% {\n",
              "      border-color: transparent;\n",
              "      border-right-color: var(--fill-color);\n",
              "      border-bottom-color: var(--fill-color);\n",
              "    }\n",
              "    90% {\n",
              "      border-color: transparent;\n",
              "      border-bottom-color: var(--fill-color);\n",
              "    }\n",
              "  }\n",
              "</style>\n",
              "\n",
              "  <script>\n",
              "    async function quickchart(key) {\n",
              "      const quickchartButtonEl =\n",
              "        document.querySelector('#' + key + ' button');\n",
              "      quickchartButtonEl.disabled = true;  // To prevent multiple clicks.\n",
              "      quickchartButtonEl.classList.add('colab-df-spinner');\n",
              "      try {\n",
              "        const charts = await google.colab.kernel.invokeFunction(\n",
              "            'suggestCharts', [key], {});\n",
              "      } catch (error) {\n",
              "        console.error('Error during call to suggestCharts:', error);\n",
              "      }\n",
              "      quickchartButtonEl.classList.remove('colab-df-spinner');\n",
              "      quickchartButtonEl.classList.add('colab-df-quickchart-complete');\n",
              "    }\n",
              "    (() => {\n",
              "      let quickchartButtonEl =\n",
              "        document.querySelector('#df-9af7d50b-0079-458f-bbfc-14614658743a button');\n",
              "      quickchartButtonEl.style.display =\n",
              "        google.colab.kernel.accessAllowed ? 'block' : 'none';\n",
              "    })();\n",
              "  </script>\n",
              "</div>\n",
              "    </div>\n",
              "  </div>\n"
            ]
          },
          "metadata": {},
          "execution_count": 41
        }
      ],
      "source": [
        "df_result = pd.DataFrame(list(zip(real_prices_list,predicted_prices_list)), columns =['real_prices','predicted_prices'])\n",
        "df_result"
      ]
    },
    {
      "cell_type": "code",
      "execution_count": null,
      "metadata": {
        "colab": {
          "base_uri": "https://localhost:8080/",
          "height": 668
        },
        "id": "l_wPXP45x4bt",
        "outputId": "62a884b6-575a-4d09-90da-0f7bdd1664b9"
      },
      "outputs": [
        {
          "output_type": "execute_result",
          "data": {
            "text/plain": [
              "<Axes: >"
            ]
          },
          "metadata": {},
          "execution_count": 42
        },
        {
          "output_type": "display_data",
          "data": {
            "text/plain": [
              "<Figure size 1600x900 with 1 Axes>"
            ],
            "image/png": "[encoded data removed]"
          },
          "metadata": {}
        }
      ],
      "source": [
        "df_result['differents'] = df_result['real_prices'] - df_result['predicted_prices']\n",
        "df_result['differents_percentage'] = abs(df_result['differents']/df_result['real_prices'])\n",
        "df_result['differents'].plot(figsize = (16,9))"
      ]
    },
    {
      "cell_type": "markdown",
      "source": [
        "# Automation programe to find best LSTM model for the target"
      ],
      "metadata": {
        "id": "avoPFKsgpoMq"
      }
    },
    {
      "cell_type": "code",
      "source": [
        "# find out the best number of neurons of the lstm\n",
        "\n",
        "\n",
        "def train_and_evaluate_model(neuron_count):\n",
        "    average_rmse = []\n",
        "    for i in range(0,10):\n",
        "        model = Sequential()\n",
        "        #model.add(LSTM(neuron_count, return_sequences=True, input_shape=(time_period, 48)))\n",
        "        model.add(LSTM(neuron_count, return_sequences=True, input_shape=(time_period, 46)))\n",
        "        model.add(LSTM(neuron_count, return_sequences=False))\n",
        "        #model.add(Dense(250))\n",
        "        model.add(Dense(25))\n",
        "        model.add(Dense(1))\n",
        "        model.compile(optimizer='adam', loss='mean_squared_error')\n",
        "\n",
        "        model.fit(X_train, y_train, batch_size=64, epochs=30, verbose=1)\n",
        "\n",
        "        predicted_prices = model.predict(X_test)\n",
        "        predicted_prices = scaler_bitclose.inverse_transform(predicted_prices)\n",
        "\n",
        "        real_prices = scaler_bitclose.inverse_transform(y_test.reshape(-1, 1))\n",
        "        rmse = math.sqrt(mean_squared_error(real_prices, predicted_prices))\n",
        "        average_rmse.append(rmse)\n",
        "\n",
        "    rsme_mean = sum(average_rmse) / len(average_rmse)\n",
        "    return rsme_mean\n",
        "numbers_neuron = np.arange(1, 101,20)\n",
        "\n",
        "neuron_counts = np.arange(10, 400,20)\n",
        "#[30, 50, 70, 100, 120, 200]  # Example neuron counts to test\n",
        "rmse_results = []\n",
        "\n",
        "for count in neuron_counts:\n",
        "    rmse = train_and_evaluate_model(count)\n",
        "    rmse_results.append(rmse)\n",
        "    print(f\"Neuron Count: {count}, RMSE: {rmse}\")\n",
        "\n",
        "# Plotting\n",
        "plt.figure(figsize=(10, 6))\n",
        "plt.plot(neuron_counts, rmse_results, marker='o')\n",
        "plt.title('RMSE vs. Neuron Count')\n",
        "plt.xlabel('Neuron Count')\n",
        "plt.ylabel('RMSE')\n",
        "plt.grid(True)\n",
        "plt.show()"
      ],
      "metadata": {
        "id": "bClWPqdTdvTN"
      },
      "execution_count": null,
      "outputs": []
    },
    {
      "cell_type": "markdown",
      "source": [],
      "metadata": {
        "id": "wG2buNJEpqYn"
      }
    },
    {
      "cell_type": "code",
      "source": [
        "model.summary()"
      ],
      "metadata": {
        "colab": {
          "base_uri": "https://localhost:8080/"
        },
        "id": "WANXL2Vkm1NK",
        "outputId": "007ad021-85fb-4836-c50a-eb029ec43c82"
      },
      "execution_count": null,
      "outputs": [
        {
          "output_type": "stream",
          "name": "stdout",
          "text": [
            "Model: \"sequential_8\"\n",
            "_________________________________________________________________\n",
            " Layer (type)                Output Shape              Param #   \n",
            "=================================================================\n",
            " lstm_14 (LSTM)              (None, 60, 200)           197600    \n",
            "                                                                 \n",
            " lstm_15 (LSTM)              (None, 200)               320800    \n",
            "                                                                 \n",
            " dense_22 (Dense)            (None, 100)               20100     \n",
            "                                                                 \n",
            " dense_23 (Dense)            (None, 25)                2525      \n",
            "                                                                 \n",
            " dense_24 (Dense)            (None, 1)                 26        \n",
            "                                                                 \n",
            "=================================================================\n",
            "Total params: 541051 (2.06 MB)\n",
            "Trainable params: 541051 (2.06 MB)\n",
            "Non-trainable params: 0 (0.00 Byte)\n",
            "_________________________________________________________________\n"
          ]
        }
      ]
    },
    {
      "cell_type": "code",
      "source": [
        "pd.DataFrame([neuron_counts, rmse_results]).to_csv('/content/drive/My Drive/CSCI567/data/neuron_counts_vs_avgRMSE.csv')"
      ],
      "metadata": {
        "id": "4HjS5QDViHBi"
      },
      "execution_count": null,
      "outputs": []
    },
    {
      "cell_type": "code",
      "execution_count": null,
      "metadata": {
        "id": "NB2zmGqSwRxH"
      },
      "outputs": [],
      "source": []
    },
    {
      "cell_type": "code",
      "execution_count": null,
      "metadata": {
        "id": "hw_FbwA3wGRU"
      },
      "outputs": [],
      "source": []
    }
  ],
  "metadata": {
    "colab": {
      "provenance": [],
      "gpuType": "T4"
    },
    "kernelspec": {
      "display_name": "Python 3",
      "name": "python3"
    },
    "language_info": {
      "name": "python"
    },
    "accelerator": "GPU"
  },
  "nbformat": 4,
  "nbformat_minor": 0
}
